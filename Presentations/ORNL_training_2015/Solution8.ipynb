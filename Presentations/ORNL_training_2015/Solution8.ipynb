{
 "metadata": {
  "name": "",
  "signature": "sha256:f26295aac8cd47ae5e29f4e51f7630ddeb17b7ce9550a91f46ea0b67af3a465b"
 },
 "nbformat": 3,
 "nbformat_minor": 0,
 "worksheets": [
  {
   "cells": [
    {
     "cell_type": "code",
     "collapsed": false,
     "input": [
      "%matplotlib inline"
     ],
     "language": "python",
     "metadata": {},
     "outputs": [],
     "prompt_number": 1
    },
    {
     "cell_type": "code",
     "collapsed": false,
     "input": [
      "import sys\n",
      "sys.path.append(\"/home/3y9/Mantid/Build/bin\")\n",
      "from mantid.simpleapi import *\n",
      "for run in range(17880,17884):\n",
      "    Load(Filename='/SNS/users/shared/MantidTrainingCourseData/SEQ_'+str(run)+'_event.nxs', \n",
      "         OutputWorkspace='temp')\n",
      "    Rebin(InputWorkspace='temp', OutputWorkspace='temp', Params='20')\n",
      "    SumSpectra(InputWorkspace='temp', OutputWorkspace='sum_'+str(run))\n",
      "    SaveNexus(InputWorkspace='sum_'+str(run),\n",
      "              Filename='/SNS/users/3y9/MantidCourse/sum_'+str(run)+'.nxs')"
     ],
     "language": "python",
     "metadata": {},
     "outputs": [],
     "prompt_number": 2
    },
    {
     "cell_type": "code",
     "collapsed": false,
     "input": [
      "mtd.importAll()"
     ],
     "language": "python",
     "metadata": {},
     "outputs": [],
     "prompt_number": 3
    },
    {
     "cell_type": "code",
     "collapsed": false,
     "input": [
      "mtd.getObjectNames()"
     ],
     "language": "python",
     "metadata": {},
     "outputs": [
      {
       "metadata": {},
       "output_type": "pyout",
       "prompt_number": 4,
       "text": [
        "['sum_17880', 'sum_17881', 'sum_17882', 'sum_17883', 'temp']"
       ]
      }
     ],
     "prompt_number": 4
    },
    {
     "cell_type": "code",
     "collapsed": false,
     "input": [
      "sum_17880.blocksize()"
     ],
     "language": "python",
     "metadata": {},
     "outputs": [
      {
       "metadata": {},
       "output_type": "pyout",
       "prompt_number": 5,
       "text": [
        "834"
       ]
      }
     ],
     "prompt_number": 5
    },
    {
     "cell_type": "code",
     "collapsed": false,
     "input": [
      "x0=sum_17880.readX(0)\n",
      "y0=sum_17880.readY(0)\n",
      "index=y0.argmax()\n",
      "print \"Maximum value of \",y0.max(), \" counts is found at \",(x0[index]+x0[index+1])*0.5, \"microseconds\""
     ],
     "language": "python",
     "metadata": {},
     "outputs": [
      {
       "output_type": "stream",
       "stream": "stdout",
       "text": [
        "Maximum value of  3052689.0  counts is found at  3529.0 microseconds\n"
       ]
      }
     ],
     "prompt_number": 6
    },
    {
     "cell_type": "code",
     "collapsed": false,
     "input": [
      "x1=sum_17881.readX(0)\n",
      "y1=sum_17881.readY(0)\n",
      "x2=sum_17882.readX(0)\n",
      "y2=sum_17882.readY(0)\n",
      "x3=sum_17883.readX(0)\n",
      "y3=sum_17883.readY(0)\n",
      "import matplotlib.pyplot as plt\n",
      "\n",
      "xp0=(x0[:-1]+x0[1:])/2\n",
      "xp1=(x1[:-1]+x1[1:])/2\n",
      "xp2=(x2[:-1]+x2[1:])/2\n",
      "xp3=(x3[:-1]+x3[1:])/2\n",
      "\n",
      "plt.plot(xp0,y0)\n",
      "plt.plot(xp1,y1)\n",
      "plt.plot(xp2,y2)\n",
      "plt.plot(xp3,y3)\n",
      "\n",
      "plt.yscale('log')\n",
      "plt.show()"
     ],
     "language": "python",
     "metadata": {},
     "outputs": [
      {
       "metadata": {},
       "output_type": "display_data",
       "png": "[encoded data removed]",
       "text": [
        "<matplotlib.figure.Figure at 0x7fed599085d0>"
       ]
      }
     ],
     "prompt_number": 7
    },
    {
     "cell_type": "code",
     "collapsed": false,
     "input": [
      "import numpy as np\n",
      "x=np.append(x0,x1)\n",
      "x=np.append(x,x2)\n",
      "x=np.append(x,x3)\n",
      "y=np.append(y0,y1)\n",
      "y=np.append(y,y2)\n",
      "y=np.append(y,y3)\n",
      "w=CreateWorkspace(x,y,Nspec=4)\n",
      "print w.getNumberHistograms()\n",
      "w.setX(2,w.readX(2)+1000)\n",
      "SaveNexus(w,Filename=\"/SNS/users/3y9/MantidCourse/newWS.nxs\")"
     ],
     "language": "python",
     "metadata": {},
     "outputs": [
      {
       "output_type": "stream",
       "stream": "stdout",
       "text": [
        "4\n"
       ]
      }
     ],
     "prompt_number": 8
    },
    {
     "cell_type": "code",
     "collapsed": false,
     "input": [
      "w=Load('/SNS/users/shared/MantidTrainingCourseData/SEQ_17880_event.nxs')\n",
      "inst=w.getInstrument()\n",
      "print type(inst)\n",
      "print inst.nelements()"
     ],
     "language": "python",
     "metadata": {},
     "outputs": [
      {
       "output_type": "stream",
       "stream": "stdout",
       "text": [
        "<class 'mantid.geometry._geometry.Instrument'>\n",
        "6\n"
       ]
      }
     ],
     "prompt_number": 9
    },
    {
     "cell_type": "code",
     "collapsed": false,
     "input": [
      "print inst.getSource().getPos()"
     ],
     "language": "python",
     "metadata": {},
     "outputs": [
      {
       "output_type": "stream",
       "stream": "stdout",
       "text": [
        "[0,0,-20.0114]\n"
       ]
      }
     ],
     "prompt_number": 10
    },
    {
     "cell_type": "code",
     "collapsed": false,
     "input": [
      "for i in range(inst.nelements()):\n",
      "    print inst[i].getName(), type(inst[i])"
     ],
     "language": "python",
     "metadata": {},
     "outputs": [
      {
       "output_type": "stream",
       "stream": "stdout",
       "text": [
        "moderator <class 'mantid.geometry._geometry.ObjComponent'>\n",
        "sample-position <class 'mantid.geometry._geometry.ObjComponent'>\n",
        "monitors <class 'mantid.geometry._geometry.CompAssembly'>\n",
        "B row <class 'mantid.geometry._geometry.CompAssembly'>\n",
        "C row <class 'mantid.geometry._geometry.CompAssembly'>\n",
        "D row <class 'mantid.geometry._geometry.CompAssembly'>\n"
       ]
      }
     ],
     "prompt_number": 11
    },
    {
     "cell_type": "code",
     "collapsed": false,
     "input": [
      "for i in range(3,6):\n",
      "    print inst[i].getName(),' has ',inst[i].nelements(), ' banks'"
     ],
     "language": "python",
     "metadata": {},
     "outputs": [
      {
       "output_type": "stream",
       "stream": "stdout",
       "text": [
        "B row  has  37  banks\n",
        "C row  has  39  banks\n",
        "D row  has  37  banks\n"
       ]
      }
     ],
     "prompt_number": 12
    },
    {
     "cell_type": "code",
     "collapsed": false,
     "input": [
      "type(inst[3][0][0][0][0])"
     ],
     "language": "python",
     "metadata": {},
     "outputs": [
      {
       "metadata": {},
       "output_type": "pyout",
       "prompt_number": 13,
       "text": [
        "mantid.geometry._geometry.Detector"
       ]
      }
     ],
     "prompt_number": 13
    },
    {
     "cell_type": "code",
     "collapsed": false,
     "input": [
      "import mantid\n",
      "comp=inst[3]\n",
      "while type(comp)!=mantid.geometry.Detector:\n",
      "    print comp.getName(),'/',\n",
      "    comp=comp[0]\n",
      "print comp.getName()\n",
      "print 'ID=',comp.getID()\n",
      "print '2Theta=',np.degrees(comp.getTwoTheta(inst.getSample().getPos(),inst.getSource().getPos()*(-1)))\n",
      "    \n",
      "    "
     ],
     "language": "python",
     "metadata": {},
     "outputs": [
      {
       "output_type": "stream",
       "stream": "stdout",
       "text": [
        "B row / B1 / eightpack / tube1 / pixel1\n",
        "ID= 37888\n",
        "2Theta= 61.9261260274\n"
       ]
      }
     ],
     "prompt_number": 14
    },
    {
     "cell_type": "code",
     "collapsed": false,
     "input": [
      "phase1=w.getRun()['Phase1']\n",
      "stat=phase1.getStatistics()\n",
      "print 'Mean=',stat.mean\n",
      "print 'Min=',stat.minimum\n",
      "print 'Max=',stat.maximum\n",
      "print 'TimeAverage=',phase1.timeAverageValue()"
     ],
     "language": "python",
     "metadata": {},
     "outputs": [
      {
       "output_type": "stream",
       "stream": "stdout",
       "text": [
        "Mean= 3649.97487646\n",
        "Min= 3649.96728516\n",
        "Max= 3649.98168945\n",
        "TimeAverage= 3649.97483767\n"
       ]
      }
     ],
     "prompt_number": 15
    },
    {
     "cell_type": "code",
     "collapsed": true,
     "input": [
      "times=[]\n",
      "for t in phase1.times:\n",
      "    times.append((t-phase1.times[0]).total_seconds())"
     ],
     "language": "python",
     "metadata": {},
     "outputs": [],
     "prompt_number": 16
    },
    {
     "cell_type": "code",
     "collapsed": false,
     "input": [
      "plt.plot(times,phase1.value,'r-')\n",
      "plt.show()"
     ],
     "language": "python",
     "metadata": {},
     "outputs": [
      {
       "metadata": {},
       "output_type": "display_data",
       "png": "[encoded data removed]",
       "text": [
        "<matplotlib.figure.Figure at 0x7fed5996ead0>"
       ]
      }
     ],
     "prompt_number": 17
    },
    {
     "cell_type": "code",
     "collapsed": false,
     "input": [],
     "language": "python",
     "metadata": {},
     "outputs": [],
     "prompt_number": 17
    }
   ],
   "metadata": {}
  }
 ]
}