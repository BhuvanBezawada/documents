{
 "metadata": {
  "name": "",
  "signature": "sha256:94ad7020c35f771c3dbcc6bf5c2efc28d2ca7147660d2a09be7a8d6010b31266"
 },
 "nbformat": 3,
 "nbformat_minor": 0,
 "worksheets": [
  {
   "cells": [
    {
     "cell_type": "code",
     "collapsed": false,
     "input": [
      "import glob, os\n",
      "textfiles=glob.glob('/SNS/users/shared/MantidTrainingCourseData/*.txt')\n",
      "d=dict()\n",
      "for tf in textfiles:\n",
      "    name=os.path.splitext(os.path.basename(tf))[0]\n",
      "    size=os.path.getsize(tf)\n",
      "    d[name]=size\n",
      "print d\n"
     ],
     "language": "python",
     "metadata": {},
     "outputs": [
      {
       "output_type": "stream",
       "stream": "stdout",
       "text": [
        "{'valueE': 1247, 'valueD': 3683, 'valueC': 407, 'valueB': 286, 'valueA': 3078}\n"
       ]
      }
     ],
     "prompt_number": 1
    },
    {
     "cell_type": "code",
     "collapsed": false,
     "input": [],
     "language": "python",
     "metadata": {},
     "outputs": []
    }
   ],
   "metadata": {}
  }
 ]
}