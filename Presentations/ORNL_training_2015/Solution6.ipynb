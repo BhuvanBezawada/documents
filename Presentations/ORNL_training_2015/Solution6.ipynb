{
 "metadata": {
  "name": "",
  "signature": "sha256:881e2f47531ec4c6951e664d739edda081894bb48f49afed1baf666243c01e5c"
 },
 "nbformat": 3,
 "nbformat_minor": 0,
 "worksheets": [
  {
   "cells": [
    {
     "cell_type": "code",
     "collapsed": false,
     "input": [
      "from numpy import array\n",
      "filename='/SNS/users/shared/MantidTrainingCourseData/valueA.txt'\n",
      "handle=open(filename,'r')\n",
      "values=[]\n",
      "for line in handle:\n",
      "    parts=line.split()\n",
      "    values.append(float(parts[1].strip()))\n",
      "values=array(values)\n",
      "handle.close()\n",
      "print values.mean()"
     ],
     "language": "python",
     "metadata": {},
     "outputs": [
      {
       "output_type": "stream",
       "stream": "stdout",
       "text": [
        "2.41501754386\n"
       ]
      }
     ],
     "prompt_number": 1
    },
    {
     "cell_type": "code",
     "collapsed": false,
     "input": [],
     "language": "python",
     "metadata": {},
     "outputs": []
    }
   ],
   "metadata": {}
  }
 ]
}