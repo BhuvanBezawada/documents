{
 "metadata": {
  "name": "",
  "signature": "sha256:a9b87dd5668bd9fa9720a9135d5f3b0b705924d696d8ba8cebed463349617704"
 },
 "nbformat": 3,
 "nbformat_minor": 0,
 "worksheets": [
  {
   "cells": [
    {
     "cell_type": "code",
     "collapsed": false,
     "input": [
      "import sys\n",
      "sys.path.append(\"/home/3y9/Mantid/Build/bin\")\n",
      "from mantid.simpleapi import *\n",
      "w=Load(Filename='/SNS/users/shared/MantidTrainingCourseData/GEM63437_focussed.nxs')\n",
      "print type(w)\n",
      "\n",
      "for wi in w:\n",
      "    print wi.getName()"
     ],
     "language": "python",
     "metadata": {},
     "outputs": [
      {
       "output_type": "stream",
       "stream": "stdout",
       "text": [
        "<class 'mantid.api._api.WorkspaceGroup'>\n",
        "w_1\n",
        "w_2\n",
        "w_3\n",
        "w_4\n",
        "w_5\n",
        "w_6\n"
       ]
      }
     ],
     "prompt_number": 1
    },
    {
     "cell_type": "code",
     "collapsed": false,
     "input": [
      "w2=w[1]"
     ],
     "language": "python",
     "metadata": {},
     "outputs": [],
     "prompt_number": 2
    },
    {
     "cell_type": "code",
     "collapsed": false,
     "input": [
      "print w2.getName()"
     ],
     "language": "python",
     "metadata": {},
     "outputs": [
      {
       "output_type": "stream",
       "stream": "stdout",
       "text": [
        "w_2\n"
       ]
      }
     ],
     "prompt_number": 3
    },
    {
     "cell_type": "code",
     "collapsed": false,
     "input": [
      "res=Fit(Function='name=LinearBackground,A0=0.0482315,A1=4.82895e-07;\\\n",
      "                  name=Lorentzian,Amplitude=42.469,PeakCentre=2436.87,FWHM=62.0123;\\\n",
      "                  name=Lorentzian,Amplitude=82.8674,PeakCentre=2862.83,FWHM=62.0123;\\\n",
      "                  name=Lorentzian,Amplitude=166.47,PeakCentre=4674.38,FWHM=62.0123;\\\n",
      "                  ties=(f2.FWHM=f1.FWHM,f3.FWHM=f1.FWHM)', \n",
      "            InputWorkspace=w2, \n",
      "            Output='GEM63437_fit', \n",
      "            OutputCompositeMembers=True,\n",
      "            StartX=2230, \n",
      "            EndX=1E4)\n",
      "print res"
     ],
     "language": "python",
     "metadata": {},
     "outputs": [
      {
       "output_type": "stream",
       "stream": "stdout",
       "text": [
        "('success', 25.2342013500016, TableWorkspace\n",
        "Columns: 10\n",
        "Rows: 9\n",
        "0 kB, TableWorkspace\n",
        "Columns: 3\n",
        "Rows: 12\n",
        "0 kB, Workspace2D\n",
        "Title: \n",
        "Histograms: 7\n",
        "Bins: 747\n",
        "Histogram\n",
        "X axis: Time-of-flight / microsecond\n",
        "Y axis: \n",
        "Distribution: False\n",
        "Instrument:  (1990-Jan-01 to 1990-Jan-01)\n",
        "Run start: not available\n",
        "Run end:  not available\n",
        ")\n"
       ]
      }
     ],
     "prompt_number": 4
    },
    {
     "cell_type": "code",
     "collapsed": false,
     "input": [
      "print res[3].getName()"
     ],
     "language": "python",
     "metadata": {},
     "outputs": [
      {
       "output_type": "stream",
       "stream": "stdout",
       "text": [
        "GEM63437_fit_Parameters\n"
       ]
      }
     ],
     "prompt_number": 5
    },
    {
     "cell_type": "code",
     "collapsed": false,
     "input": [
      "pars=res[3]"
     ],
     "language": "python",
     "metadata": {},
     "outputs": [],
     "prompt_number": 6
    },
    {
     "cell_type": "code",
     "collapsed": false,
     "input": [
      "pars.keys()"
     ],
     "language": "python",
     "metadata": {},
     "outputs": [
      {
       "metadata": {},
       "output_type": "pyout",
       "prompt_number": 7,
       "text": [
        "['Name', 'Value', 'Error']"
       ]
      }
     ],
     "prompt_number": 7
    },
    {
     "cell_type": "code",
     "collapsed": false,
     "input": [
      "pars.columnCount()"
     ],
     "language": "python",
     "metadata": {},
     "outputs": [
      {
       "metadata": {},
       "output_type": "pyout",
       "prompt_number": 8,
       "text": [
        "3"
       ]
      }
     ],
     "prompt_number": 8
    },
    {
     "cell_type": "code",
     "collapsed": false,
     "input": [
      "pars.rowCount()"
     ],
     "language": "python",
     "metadata": {},
     "outputs": [
      {
       "metadata": {},
       "output_type": "pyout",
       "prompt_number": 9,
       "text": [
        "12"
       ]
      }
     ],
     "prompt_number": 9
    },
    {
     "cell_type": "code",
     "collapsed": false,
     "input": [
      "for i in range(1,pars.rowCount()):\n",
      "    name=pars.cell(i,0)\n",
      "    value=pars.cell(i,1)\n",
      "    if name=='f1.PeakCentre':\n",
      "        f1c=value\n",
      "    if name=='f2.PeakCentre':\n",
      "        f2c=value\n",
      "    if name=='f3.PeakCentre':\n",
      "        f3c=value\n",
      "print f2c/f1c\n",
      "print f3c/f1c"
     ],
     "language": "python",
     "metadata": {},
     "outputs": [
      {
       "output_type": "stream",
       "stream": "stdout",
       "text": [
        "1.17479799907\n",
        "1.91819013735\n"
       ]
      }
     ],
     "prompt_number": 10
    },
    {
     "cell_type": "code",
     "collapsed": false,
     "input": [],
     "language": "python",
     "metadata": {},
     "outputs": [],
     "prompt_number": 10
    }
   ],
   "metadata": {}
  }
 ]
}