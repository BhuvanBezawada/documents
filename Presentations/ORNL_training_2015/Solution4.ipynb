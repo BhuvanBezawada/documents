{
 "metadata": {
  "name": "",
  "signature": "sha256:3f8c3d3eaee40808008f8c77f2e0aace8ca354eb25853faeae0de2d374c29035"
 },
 "nbformat": 3,
 "nbformat_minor": 0,
 "worksheets": [
  {
   "cells": [
    {
     "cell_type": "code",
     "collapsed": false,
     "input": [
      "%matplotlib inline"
     ],
     "language": "python",
     "metadata": {},
     "outputs": [],
     "prompt_number": 1
    },
    {
     "cell_type": "code",
     "collapsed": false,
     "input": [
      "import numpy as np\n",
      "import matplotlib.pyplot as plt\n",
      "x=np.linspace(-5,7,200)\n",
      "y=x**3-2*x**2-19*x+20\n",
      "plt.plot(x,y)\n",
      "plt.grid(True)"
     ],
     "language": "python",
     "metadata": {},
     "outputs": [
      {
       "metadata": {},
       "output_type": "display_data",
       "png": "[encoded data removed]",
       "text": [
        "<matplotlib.figure.Figure at 0x9e0b588>"
       ]
      }
     ],
     "prompt_number": 2
    },
    {
     "cell_type": "code",
     "collapsed": false,
     "input": [
      "guesses=[-4,1,5]\n",
      "for i,p in enumerate(guesses):\n",
      "    x=np.linspace(p-2,p+2,201)\n",
      "    y=x**3-2.*x**2-19.*x+20.\n",
      "    index=np.abs(y).argmin()\n",
      "    print 'Root ',i,' = ',x[index]"
     ],
     "language": "python",
     "metadata": {},
     "outputs": [
      {
       "output_type": "stream",
       "stream": "stdout",
       "text": [
        "Root  0  =  -4.0\n",
        "Root  1  =  1.0\n",
        "Root  2  =  5.0\n"
       ]
      }
     ],
     "prompt_number": 3
    },
    {
     "cell_type": "code",
     "collapsed": false,
     "input": [],
     "language": "python",
     "metadata": {},
     "outputs": [],
     "prompt_number": 3
    }
   ],
   "metadata": {}
  }
 ]
}