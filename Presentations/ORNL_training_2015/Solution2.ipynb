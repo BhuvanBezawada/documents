{
 "metadata": {
  "name": "",
  "signature": "sha256:41ade164c52c71b6bfa0e4c32c2fc0e37e3f470da4d58ead124b99b70730687b"
 },
 "nbformat": 3,
 "nbformat_minor": 0,
 "worksheets": [
  {
   "cells": [
    {
     "cell_type": "code",
     "collapsed": false,
     "input": [
      "def fibfunc(n=20,show_ratio=False):\n",
      "    fib=[]\n",
      "    ratio=[]\n",
      "    if n>0:\n",
      "        fib.append(0)\n",
      "    if n>1:\n",
      "        fib.append(1)\n",
      "    if n>2:\n",
      "        for i in range(2,n):\n",
      "            fib.append(fib[i-1]+fib[i-2])\n",
      "            ratio.append(float(fib[i])/float(fib[i-1]))\n",
      "    if not show_ratio:\n",
      "        return fib\n",
      "    else:\n",
      "        return fib,ratio\n",
      "\n",
      "print fibfunc()\n",
      "print fibfunc(0)\n",
      "print fibfunc(1)\n",
      "print fibfunc(True)\n",
      "print fibfunc(show_ratio=True)\n",
      "print fibfunc(15,True)"
     ],
     "language": "python",
     "metadata": {},
     "outputs": [
      {
       "output_type": "stream",
       "stream": "stdout",
       "text": [
        "[0, 1, 1, 2, 3, 5, 8, 13, 21, 34, 55, 89, 144, 233, 377, 610, 987, 1597, 2584, 4181]\n",
        "[]\n",
        "[0]\n",
        "[0]\n",
        "([0, 1, 1, 2, 3, 5, 8, 13, 21, 34, 55, 89, 144, 233, 377, 610, 987, 1597, 2584, 4181], [1.0, 2.0, 1.5, 1.6666666666666667, 1.6, 1.625, 1.6153846153846154, 1.619047619047619, 1.6176470588235294, 1.6181818181818182, 1.6179775280898876, 1.6180555555555556, 1.6180257510729614, 1.6180371352785146, 1.618032786885246, 1.618034447821682, 1.6180338134001253, 1.618034055727554])\n",
        "([0, 1, 1, 2, 3, 5, 8, 13, 21, 34, 55, 89, 144, 233, 377], [1.0, 2.0, 1.5, 1.6666666666666667, 1.6, 1.625, 1.6153846153846154, 1.619047619047619, 1.6176470588235294, 1.6181818181818182, 1.6179775280898876, 1.6180555555555556, 1.6180257510729614])\n"
       ]
      }
     ],
     "prompt_number": 1
    },
    {
     "cell_type": "code",
     "collapsed": false,
     "input": [],
     "language": "python",
     "metadata": {},
     "outputs": []
    }
   ],
   "metadata": {}
  }
 ]
}