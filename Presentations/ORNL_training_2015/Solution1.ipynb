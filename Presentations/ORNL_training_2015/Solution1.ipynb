{
 "metadata": {
  "name": "",
  "signature": "sha256:5c2915c504de4b7f93110ac724fb6a0dc3cee555dadd7bc2c30980fa31dd8512"
 },
 "nbformat": 3,
 "nbformat_minor": 0,
 "worksheets": [
  {
   "cells": [
    {
     "cell_type": "code",
     "collapsed": false,
     "input": [
      "fib=[]\n",
      "fib.append(0)\n",
      "fib.append(1)\n",
      "for i in range(2,25):\n",
      "    fib.append(fib[i-1]+fib[i-2])\n",
      "print fib"
     ],
     "language": "python",
     "metadata": {},
     "outputs": [
      {
       "output_type": "stream",
       "stream": "stdout",
       "text": [
        "[0, 1, 1, 2, 3, 5, 8, 13, 21, 34, 55, 89, 144, 233, 377, 610, 987, 1597, 2584, 4181, 6765, 10946, 17711, 28657, 46368]\n"
       ]
      }
     ],
     "prompt_number": 1
    },
    {
     "cell_type": "code",
     "collapsed": false,
     "input": [],
     "language": "python",
     "metadata": {},
     "outputs": []
    }
   ],
   "metadata": {}
  }
 ]
}