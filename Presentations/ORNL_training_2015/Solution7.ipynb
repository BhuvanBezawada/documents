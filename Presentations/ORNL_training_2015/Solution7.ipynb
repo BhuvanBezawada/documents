{
 "metadata": {
  "name": "",
  "signature": "sha256:db5932ad935ea62ffa7067a77a2ddca410229d746a0f31bb4eb8ee92de84aeb2"
 },
 "nbformat": 3,
 "nbformat_minor": 0,
 "worksheets": [
  {
   "cells": [
    {
     "cell_type": "code",
     "collapsed": false,
     "input": [
      "import sys\n",
      "sys.path.append(\"/home/3y9/Mantid/Build/bin\")\n",
      "from mantid.simpleapi import *\n",
      "for run in range(17880,17884):\n",
      "    Load(Filename='/SNS/users/shared/MantidTrainingCourseData/SEQ_'+str(run)+'_event.nxs', OutputWorkspace='temp')\n",
      "    Rebin(InputWorkspace='temp', OutputWorkspace='temp', Params='20')\n",
      "    SumSpectra(InputWorkspace='temp', OutputWorkspace='sum_'+str(run))\n",
      "    SaveNexus(InputWorkspace='sum_'+str(run),Filename='/SNS/users/3y9/MantidCourse/sum_'+str(run)+'.nxs')"
     ],
     "language": "python",
     "metadata": {},
     "outputs": []
    }
   ],
   "metadata": {}
  }
 ]
}