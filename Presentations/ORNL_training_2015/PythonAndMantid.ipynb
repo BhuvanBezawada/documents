{
 "metadata": {
  "name": "",
  "signature": "sha256:865591368ef0cd0ff3dbe7b4f64a6ce1810155a447c9c3c0f1bec57dd1de2ca4"
 },
 "nbformat": 3,
 "nbformat_minor": 0,
 "worksheets": [
  {
   "cells": [
    {
     "cell_type": "code",
     "collapsed": false,
     "input": [
      "%matplotlib inline"
     ],
     "language": "python",
     "metadata": {},
     "outputs": [],
     "prompt_number": 1
    },
    {
     "cell_type": "heading",
     "level": 1,
     "metadata": {},
     "source": [
      "Why Python?\n"
     ]
    },
    {
     "cell_type": "heading",
     "level": 1,
     "metadata": {},
     "source": [
      "Using the iPython"
     ]
    },
    {
     "cell_type": "heading",
     "level": 1,
     "metadata": {},
     "source": [
      "Data types"
     ]
    },
    {
     "cell_type": "heading",
     "level": 2,
     "metadata": {},
     "source": [
      "Basic data types"
     ]
    },
    {
     "cell_type": "code",
     "collapsed": false,
     "input": [
      "integer_example=5"
     ],
     "language": "python",
     "metadata": {},
     "outputs": [],
     "prompt_number": 2
    },
    {
     "cell_type": "code",
     "collapsed": false,
     "input": [
      "float_example=5.0"
     ],
     "language": "python",
     "metadata": {},
     "outputs": [],
     "prompt_number": 3
    },
    {
     "cell_type": "code",
     "collapsed": false,
     "input": [
      "boolean_example=True"
     ],
     "language": "python",
     "metadata": {},
     "outputs": [],
     "prompt_number": 4
    },
    {
     "cell_type": "code",
     "collapsed": false,
     "input": [
      "string_example='python'"
     ],
     "language": "python",
     "metadata": {},
     "outputs": [],
     "prompt_number": 5
    },
    {
     "cell_type": "code",
     "collapsed": false,
     "input": [
      "string_example+5"
     ],
     "language": "python",
     "metadata": {},
     "outputs": [
      {
       "ename": "TypeError",
       "evalue": "cannot concatenate 'str' and 'int' objects",
       "output_type": "pyerr",
       "traceback": [
        "\u001b[0;31m---------------------------------------------------------------------------\u001b[0m\n\u001b[0;31mTypeError\u001b[0m                                 Traceback (most recent call last)",
        "\u001b[0;32m<ipython-input-6-8a238cac995e>\u001b[0m in \u001b[0;36m<module>\u001b[0;34m()\u001b[0m\n\u001b[0;32m----> 1\u001b[0;31m \u001b[0mstring_example\u001b[0m\u001b[0;34m+\u001b[0m\u001b[0;36m5\u001b[0m\u001b[0;34m\u001b[0m\u001b[0m\n\u001b[0m",
        "\u001b[0;31mTypeError\u001b[0m: cannot concatenate 'str' and 'int' objects"
       ]
      }
     ],
     "prompt_number": 6
    },
    {
     "cell_type": "markdown",
     "metadata": {},
     "source": [
      "- **to check the type, use `type` function**"
     ]
    },
    {
     "cell_type": "code",
     "collapsed": false,
     "input": [
      "print type(float_example)"
     ],
     "language": "python",
     "metadata": {},
     "outputs": [
      {
       "output_type": "stream",
       "stream": "stdout",
       "text": [
        "<type 'float'>\n"
       ]
      }
     ],
     "prompt_number": 7
    },
    {
     "cell_type": "code",
     "collapsed": false,
     "input": [
      "#this is a comment"
     ],
     "language": "python",
     "metadata": {},
     "outputs": [],
     "prompt_number": 8
    },
    {
     "cell_type": "heading",
     "level": 2,
     "metadata": {},
     "source": [
      "Converting between types"
     ]
    },
    {
     "cell_type": "code",
     "collapsed": false,
     "input": [
      "x = 'The meaning of life is ... '\n",
      "answer = 42\n",
      "y = x + str(answer)\n",
      "print y"
     ],
     "language": "python",
     "metadata": {},
     "outputs": [
      {
       "output_type": "stream",
       "stream": "stdout",
       "text": [
        "The meaning of life is ... 42\n"
       ]
      }
     ],
     "prompt_number": 9
    },
    {
     "cell_type": "markdown",
     "metadata": {},
     "source": [
      "- **By default, print outputs a newline at the end. Use comma to print on the same line**"
     ]
    },
    {
     "cell_type": "code",
     "collapsed": false,
     "input": [
      "x=5\n",
      "y=6\n",
      "print x, y\n",
      "print x\n",
      "print y"
     ],
     "language": "python",
     "metadata": {},
     "outputs": [
      {
       "output_type": "stream",
       "stream": "stdout",
       "text": [
        "5 6\n",
        "5\n",
        "6\n"
       ]
      }
     ],
     "prompt_number": 10
    },
    {
     "cell_type": "code",
     "collapsed": false,
     "input": [
      "print 1/2"
     ],
     "language": "python",
     "metadata": {},
     "outputs": [
      {
       "output_type": "stream",
       "stream": "stdout",
       "text": [
        "0\n"
       ]
      }
     ],
     "prompt_number": 11
    },
    {
     "cell_type": "code",
     "collapsed": false,
     "input": [
      "print 1./2\n",
      "print 1/2.\n",
      "print float(1)/float(2)"
     ],
     "language": "python",
     "metadata": {},
     "outputs": [
      {
       "output_type": "stream",
       "stream": "stdout",
       "text": [
        "0.5\n",
        "0.5\n",
        "0.5\n"
       ]
      }
     ],
     "prompt_number": 12
    },
    {
     "cell_type": "heading",
     "level": 2,
     "metadata": {},
     "source": [
      "Sequence data types - lists"
     ]
    },
    {
     "cell_type": "code",
     "collapsed": false,
     "input": [
      "list_example=[1,2,3,4,5]"
     ],
     "language": "python",
     "metadata": {},
     "outputs": [],
     "prompt_number": 13
    },
    {
     "cell_type": "markdown",
     "metadata": {},
     "source": [
      "- **create list of integers with `range(min,max,step)`**\n",
      "- **note that the list starts with min, but it is less then max**"
     ]
    },
    {
     "cell_type": "code",
     "collapsed": false,
     "input": [
      "print range(10,20,2)"
     ],
     "language": "python",
     "metadata": {},
     "outputs": [
      {
       "output_type": "stream",
       "stream": "stdout",
       "text": [
        "[10, 12, 14, 16, 18]\n"
       ]
      }
     ],
     "prompt_number": 14
    },
    {
     "cell_type": "markdown",
     "metadata": {},
     "source": [
      "- **Add elements with append**"
     ]
    },
    {
     "cell_type": "code",
     "collapsed": false,
     "input": [
      "list_example.append(\"some string\")\n",
      "print list_example"
     ],
     "language": "python",
     "metadata": {},
     "outputs": [
      {
       "output_type": "stream",
       "stream": "stdout",
       "text": [
        "[1, 2, 3, 4, 5, 'some string']\n"
       ]
      }
     ],
     "prompt_number": 15
    },
    {
     "cell_type": "markdown",
     "metadata": {},
     "source": [
      "- **Access elements by index, starting at 0**"
     ]
    },
    {
     "cell_type": "code",
     "collapsed": false,
     "input": [
      "print list_example[0], list_example[3],list_example[-1]"
     ],
     "language": "python",
     "metadata": {},
     "outputs": [
      {
       "output_type": "stream",
       "stream": "stdout",
       "text": [
        "1 4 some string\n"
       ]
      }
     ],
     "prompt_number": 16
    },
    {
     "cell_type": "code",
     "collapsed": false,
     "input": [
      "a=range(10)\n",
      "print a\n",
      "a[5]=2\n",
      "print a"
     ],
     "language": "python",
     "metadata": {},
     "outputs": [
      {
       "output_type": "stream",
       "stream": "stdout",
       "text": [
        "[0, 1, 2, 3, 4, 5, 6, 7, 8, 9]\n",
        "[0, 1, 2, 3, 4, 2, 6, 7, 8, 9]\n"
       ]
      }
     ],
     "prompt_number": 17
    },
    {
     "cell_type": "markdown",
     "metadata": {},
     "source": [
      "- **Fancy indexing [start:stop:stride]**"
     ]
    },
    {
     "cell_type": "code",
     "collapsed": false,
     "input": [
      "a=range(10)\n",
      "print a\n",
      "print a[0:3]\n",
      "print a[5:10]\n",
      "print a[5:-1]\n",
      "print a[5:]\n",
      "print a[:5]\n",
      "print a[::2]\n",
      "print a[1::2]"
     ],
     "language": "python",
     "metadata": {},
     "outputs": [
      {
       "output_type": "stream",
       "stream": "stdout",
       "text": [
        "[0, 1, 2, 3, 4, 5, 6, 7, 8, 9]\n",
        "[0, 1, 2]\n",
        "[5, 6, 7, 8, 9]\n",
        "[5, 6, 7, 8]\n",
        "[5, 6, 7, 8, 9]\n",
        "[0, 1, 2, 3, 4]\n",
        "[0, 2, 4, 6, 8]\n",
        "[1, 3, 5, 7, 9]\n"
       ]
      }
     ],
     "prompt_number": 18
    },
    {
     "cell_type": "heading",
     "level": 2,
     "metadata": {},
     "source": [
      "Sequence data types - tuples"
     ]
    },
    {
     "cell_type": "markdown",
     "metadata": {},
     "source": [
      "- **immutable list **\n",
      "- **useful when returning values from a function  **"
     ]
    },
    {
     "cell_type": "code",
     "collapsed": false,
     "input": [
      "lottery_numbers = (1,2,3,4,5,6)\n",
      "print lottery_numbers[0]     # prints 1\n",
      "print lottery_numbers[1:3]   # prints (2,3)\n",
      "# Assignment not allowed\n",
      "lottery_numbers[3] = 42      # gives error \"TypeError: 'tuple' object does not support item assignment\""
     ],
     "language": "python",
     "metadata": {},
     "outputs": [
      {
       "output_type": "stream",
       "stream": "stdout",
       "text": [
        "1\n",
        "(2, 3)\n"
       ]
      },
      {
       "ename": "TypeError",
       "evalue": "'tuple' object does not support item assignment",
       "output_type": "pyerr",
       "traceback": [
        "\u001b[0;31m---------------------------------------------------------------------------\u001b[0m\n\u001b[0;31mTypeError\u001b[0m                                 Traceback (most recent call last)",
        "\u001b[0;32m<ipython-input-19-76b273095974>\u001b[0m in \u001b[0;36m<module>\u001b[0;34m()\u001b[0m\n\u001b[1;32m      3\u001b[0m \u001b[0;32mprint\u001b[0m \u001b[0mlottery_numbers\u001b[0m\u001b[0;34m[\u001b[0m\u001b[0;36m1\u001b[0m\u001b[0;34m:\u001b[0m\u001b[0;36m3\u001b[0m\u001b[0;34m]\u001b[0m   \u001b[0;31m# prints (2,3)\u001b[0m\u001b[0;34m\u001b[0m\u001b[0m\n\u001b[1;32m      4\u001b[0m \u001b[0;31m# Assignment not allowed\u001b[0m\u001b[0;34m\u001b[0m\u001b[0;34m\u001b[0m\u001b[0m\n\u001b[0;32m----> 5\u001b[0;31m \u001b[0mlottery_numbers\u001b[0m\u001b[0;34m[\u001b[0m\u001b[0;36m3\u001b[0m\u001b[0;34m]\u001b[0m \u001b[0;34m=\u001b[0m \u001b[0;36m42\u001b[0m      \u001b[0;31m# gives error \"TypeError: 'tuple' object does not support item assignment\"\u001b[0m\u001b[0;34m\u001b[0m\u001b[0m\n\u001b[0m",
        "\u001b[0;31mTypeError\u001b[0m: 'tuple' object does not support item assignment"
       ]
      }
     ],
     "prompt_number": 19
    },
    {
     "cell_type": "heading",
     "level": 2,
     "metadata": {},
     "source": [
      "Sequence data types - dictionaries"
     ]
    },
    {
     "cell_type": "markdown",
     "metadata": {},
     "source": [
      "- **key, value pairs, not in a user defined order**"
     ]
    },
    {
     "cell_type": "code",
     "collapsed": false,
     "input": [
      "empty_dict = {}      # Empty dictionary\n",
      "my_lookup = {'a' : 1, 'b' : 2} # A dictionary with two keys, each\n",
      "                               # mapped to the respective value\n",
      "print my_lookup\n",
      "print my_lookup.keys()\n",
      "print my_lookup.values()"
     ],
     "language": "python",
     "metadata": {},
     "outputs": [
      {
       "output_type": "stream",
       "stream": "stdout",
       "text": [
        "{'a': 1, 'b': 2}\n",
        "['a', 'b']\n",
        "[1, 2]\n"
       ]
      }
     ],
     "prompt_number": 20
    },
    {
     "cell_type": "code",
     "collapsed": false,
     "input": [
      "print my_lookup['b']  # prints  2\n",
      "print empty_dict['a']   # Results in \"KeyError: 'a'\""
     ],
     "language": "python",
     "metadata": {},
     "outputs": [
      {
       "output_type": "stream",
       "stream": "stdout",
       "text": [
        "2\n"
       ]
      },
      {
       "ename": "KeyError",
       "evalue": "'a'",
       "output_type": "pyerr",
       "traceback": [
        "\u001b[0;31m---------------------------------------------------------------------------\u001b[0m\n\u001b[0;31mKeyError\u001b[0m                                  Traceback (most recent call last)",
        "\u001b[0;32m<ipython-input-21-60396b27b0c5>\u001b[0m in \u001b[0;36m<module>\u001b[0;34m()\u001b[0m\n\u001b[1;32m      1\u001b[0m \u001b[0;32mprint\u001b[0m \u001b[0mmy_lookup\u001b[0m\u001b[0;34m[\u001b[0m\u001b[0;34m'b'\u001b[0m\u001b[0;34m]\u001b[0m  \u001b[0;31m# prints  2\u001b[0m\u001b[0;34m\u001b[0m\u001b[0m\n\u001b[0;32m----> 2\u001b[0;31m \u001b[0;32mprint\u001b[0m \u001b[0mempty_dict\u001b[0m\u001b[0;34m[\u001b[0m\u001b[0;34m'a'\u001b[0m\u001b[0;34m]\u001b[0m   \u001b[0;31m# Results in \"KeyError: 'a'\"\u001b[0m\u001b[0;34m\u001b[0m\u001b[0m\n\u001b[0m",
        "\u001b[0;31mKeyError\u001b[0m: 'a'"
       ]
      }
     ],
     "prompt_number": 21
    },
    {
     "cell_type": "code",
     "collapsed": false,
     "input": [
      "empty_dict['a'] = 1\n",
      "my_lookup['b'] = 3\n",
      "print empty_dict\n",
      "print my_lookup"
     ],
     "language": "python",
     "metadata": {},
     "outputs": [
      {
       "output_type": "stream",
       "stream": "stdout",
       "text": [
        "{'a': 1}\n",
        "{'a': 1, 'b': 3}\n"
       ]
      }
     ],
     "prompt_number": 22
    },
    {
     "cell_type": "code",
     "collapsed": false,
     "input": [
      "del my_lookup['b']   # Removes the key/value pair with the specified key\n",
      "print my_lookup\n",
      "my_lookup.clear()   # Empties the dictionary\n",
      "print my_lookup"
     ],
     "language": "python",
     "metadata": {},
     "outputs": [
      {
       "output_type": "stream",
       "stream": "stdout",
       "text": [
        "{'a': 1}\n",
        "{}\n"
       ]
      }
     ],
     "prompt_number": 23
    },
    {
     "cell_type": "heading",
     "level": 2,
     "metadata": {},
     "source": [
      "Sequence data types - Common operations"
     ]
    },
    {
     "cell_type": "code",
     "collapsed": false,
     "input": [
      "print empty_dict,a\n",
      "print len(empty_dict), len(a)"
     ],
     "language": "python",
     "metadata": {},
     "outputs": [
      {
       "output_type": "stream",
       "stream": "stdout",
       "text": [
        "{'a': 1} [0, 1, 2, 3, 4, 5, 6, 7, 8, 9]\n",
        "1 10\n"
       ]
      }
     ],
     "prompt_number": 24
    },
    {
     "cell_type": "code",
     "collapsed": false,
     "input": [
      "my_lookup = {'a' : 1, 'b' : 2}\n",
      "print 1 in my_lookup\n",
      "print 'a' in my_lookup\n",
      "print 1 in a"
     ],
     "language": "python",
     "metadata": {},
     "outputs": [
      {
       "output_type": "stream",
       "stream": "stdout",
       "text": [
        "False\n",
        "True\n",
        "True\n"
       ]
      }
     ],
     "prompt_number": 25
    },
    {
     "cell_type": "code",
     "collapsed": false,
     "input": [
      "print 3 not in a\n",
      "print 15 not in a"
     ],
     "language": "python",
     "metadata": {},
     "outputs": [
      {
       "output_type": "stream",
       "stream": "stdout",
       "text": [
        "False\n",
        "True\n"
       ]
      }
     ],
     "prompt_number": 26
    },
    {
     "cell_type": "heading",
     "level": 1,
     "metadata": {},
     "source": [
      "Control structures"
     ]
    },
    {
     "cell_type": "heading",
     "level": 2,
     "metadata": {},
     "source": [
      "Comparison testing"
     ]
    },
    {
     "cell_type": "code",
     "collapsed": false,
     "input": [
      "a=5\n",
      "print a==2 #equality\n",
      "print a!=2 #inequality\n",
      "print a<5\n",
      "print a>=4"
     ],
     "language": "python",
     "metadata": {},
     "outputs": [
      {
       "output_type": "stream",
       "stream": "stdout",
       "text": [
        "False\n",
        "True\n",
        "False\n",
        "True\n"
       ]
      }
     ],
     "prompt_number": 27
    },
    {
     "cell_type": "markdown",
     "metadata": {},
     "source": [
      "- **Combine boolean expressions with `and`/ `not`/ `or`**"
     ]
    },
    {
     "cell_type": "code",
     "collapsed": false,
     "input": [
      "print a<10 and a>0"
     ],
     "language": "python",
     "metadata": {},
     "outputs": [
      {
       "output_type": "stream",
       "stream": "stdout",
       "text": [
        "True\n"
       ]
      }
     ],
     "prompt_number": 28
    },
    {
     "cell_type": "heading",
     "level": 2,
     "metadata": {},
     "source": [
      "if ... elif ... else"
     ]
    },
    {
     "cell_type": "code",
     "collapsed": false,
     "input": [
      "if a<0:\n",
      "    print \"a < 0\"\n",
      "elif a<10:\n",
      "    print \"0 <= a <10\"\n",
      "else:\n",
      "    print \"a >= 10\""
     ],
     "language": "python",
     "metadata": {},
     "outputs": [
      {
       "output_type": "stream",
       "stream": "stdout",
       "text": [
        "0 <= a <10\n"
       ]
      }
     ],
     "prompt_number": 29
    },
    {
     "cell_type": "markdown",
     "metadata": {},
     "source": [
      "- **after the boolean condition, the line has to end with a colon**\n",
      "- **the block to be executed has to be indented, all lines with the same indentation**\n",
      "- **`elif` and `else` are optional**"
     ]
    },
    {
     "cell_type": "heading",
     "level": 2,
     "metadata": {},
     "source": [
      "for loop"
     ]
    },
    {
     "cell_type": "code",
     "collapsed": false,
     "input": [
      "for run in [1,2,3,4]:\n",
      "    print run"
     ],
     "language": "python",
     "metadata": {},
     "outputs": [
      {
       "output_type": "stream",
       "stream": "stdout",
       "text": [
        "1\n",
        "2\n",
        "3\n",
        "4\n"
       ]
      }
     ],
     "prompt_number": 30
    },
    {
     "cell_type": "markdown",
     "metadata": {},
     "source": [
      "- **the sequence after `in` can be any sequence type (list, dictionary, etc.)**\n",
      "- **the for statement ends with colon**\n",
      "- **the block to be executed has to be indented** "
     ]
    },
    {
     "cell_type": "heading",
     "level": 3,
     "metadata": {},
     "source": [
      "`break` exits the loop"
     ]
    },
    {
     "cell_type": "code",
     "collapsed": false,
     "input": [
      "nums = [1,2,3,-1,5,6]\n",
      "list_ok = True\n",
      "for i in nums:\n",
      "    if i < 0:\n",
      "        list_ok = False\n",
      "        break\n",
      " \n",
      "if list_ok == False:\n",
      "    print 'The list contains a negative number'"
     ],
     "language": "python",
     "metadata": {},
     "outputs": [
      {
       "output_type": "stream",
       "stream": "stdout",
       "text": [
        "The list contains a negative number\n"
       ]
      }
     ],
     "prompt_number": 31
    },
    {
     "cell_type": "heading",
     "level": 3,
     "metadata": {},
     "source": [
      "`continue` jumps execution to the next iteration of the for loop"
     ]
    },
    {
     "cell_type": "code",
     "collapsed": false,
     "input": [
      "nums =  [1,2,3,-1,5,6]\n",
      "pos_sum = 0\n",
      "for i in nums:\n",
      "    if i < 0:\n",
      "        continue\n",
      "    pos_sum += i     # compound assignment means pos_sum = pos_sum + i\n",
      " \n",
      "print 'Sum of positive numbers is ' + str(pos_sum)"
     ],
     "language": "python",
     "metadata": {},
     "outputs": [
      {
       "output_type": "stream",
       "stream": "stdout",
       "text": [
        "Sum of positive numbers is 17\n"
       ]
      }
     ],
     "prompt_number": 32
    },
    {
     "cell_type": "markdown",
     "metadata": {},
     "source": [
      "- **An optional `else` clause can be added after the loop that will only get executed if the whole loop executes successfully**"
     ]
    },
    {
     "cell_type": "code",
     "collapsed": false,
     "input": [
      "for i in range(0,10):\n",
      "    print i\n",
      "else:\n",
      "    print 'done'     # Prints numbers 0-9 and the 'done'\n",
      "\n",
      "for i in range(0,10):\n",
      "    if i == 5:\n",
      "        break\n",
      "    print i\n",
      "else:\n",
      "    print 'done'     # Prints numbers 0-4"
     ],
     "language": "python",
     "metadata": {},
     "outputs": [
      {
       "output_type": "stream",
       "stream": "stdout",
       "text": [
        "0\n",
        "1\n",
        "2\n",
        "3\n",
        "4\n",
        "5\n",
        "6\n",
        "7\n",
        "8\n",
        "9\n",
        "done\n",
        "0\n",
        "1\n",
        "2\n",
        "3\n",
        "4\n"
       ]
      }
     ],
     "prompt_number": 33
    },
    {
     "cell_type": "markdown",
     "metadata": {},
     "source": [
      "- **one can use `enumerate` to get the index of the loop**"
     ]
    },
    {
     "cell_type": "code",
     "collapsed": false,
     "input": [
      "day=['Mo','Tu','We','Th','Fr','Sa','Su']\n",
      "for index,d in enumerate(day):\n",
      "    print 'Day ',index,' is ',d"
     ],
     "language": "python",
     "metadata": {},
     "outputs": [
      {
       "output_type": "stream",
       "stream": "stdout",
       "text": [
        "Day  0  is  Mo\n",
        "Day  1  is  Tu\n",
        "Day  2  is  We\n",
        "Day  3  is  Th\n",
        "Day  4  is  Fr\n",
        "Day  5  is  Sa\n",
        "Day  6  is  Su\n"
       ]
      }
     ],
     "prompt_number": 34
    },
    {
     "cell_type": "markdown",
     "metadata": {},
     "source": [
      "- **similarly, one can tie together sequences of the same length, using `zip`**"
     ]
    },
    {
     "cell_type": "code",
     "collapsed": false,
     "input": [
      "alist=range(2,7)\n",
      "blist=range(5,10)\n",
      "print len(alist), len(blist)\n",
      "for x,y in zip(alist,blist):\n",
      "    print x,y"
     ],
     "language": "python",
     "metadata": {},
     "outputs": [
      {
       "output_type": "stream",
       "stream": "stdout",
       "text": [
        "5 5\n",
        "2 5\n",
        "3 6\n",
        "4 7\n",
        "5 8\n",
        "6 9\n"
       ]
      }
     ],
     "prompt_number": 35
    },
    {
     "cell_type": "heading",
     "level": 2,
     "metadata": {},
     "source": [
      "while"
     ]
    },
    {
     "cell_type": "code",
     "collapsed": false,
     "input": [
      "sum = 0\n",
      "while sum < 10:\n",
      "    sum += 1   # ALWAYS remember to update the loop test or it will\n",
      "               # run forever!! \n",
      " \n",
      "print sum      # Gives value 10"
     ],
     "language": "python",
     "metadata": {},
     "outputs": [
      {
       "output_type": "stream",
       "stream": "stdout",
       "text": [
        "10\n"
       ]
      }
     ],
     "prompt_number": 36
    },
    {
     "cell_type": "markdown",
     "metadata": {},
     "source": [
      "- **same syntax as for**\n",
      "- **executes until the statement is `False`**"
     ]
    },
    {
     "cell_type": "markdown",
     "metadata": {},
     "source": [
      "***Exercise 1: Write a program to generate a list of the 25 first Fibonacci numbers. Create an empty list. Append elements 0 and 1. Then write a loop to append fib[i]=fib[i-1]+fib[i-2]***\n"
     ]
    },
    {
     "cell_type": "heading",
     "level": 1,
     "metadata": {},
     "source": [
      "Functions"
     ]
    },
    {
     "cell_type": "code",
     "collapsed": false,
     "input": [
      "def sayHello():\n",
      "    print ' ----- HELLO !!! ----- '"
     ],
     "language": "python",
     "metadata": {},
     "outputs": [],
     "prompt_number": 37
    },
    {
     "cell_type": "markdown",
     "metadata": {},
     "source": [
      "- **starts with `def` keyword, function name, list of arguments in parantheses, and a colon**\n",
      "- **the code inside the function is indented**\n",
      "- **can return some values**"
     ]
    },
    {
     "cell_type": "code",
     "collapsed": false,
     "input": [
      "sayHello()"
     ],
     "language": "python",
     "metadata": {},
     "outputs": [
      {
       "output_type": "stream",
       "stream": "stdout",
       "text": [
        " ----- HELLO !!! ----- \n"
       ]
      }
     ],
     "prompt_number": 38
    },
    {
     "cell_type": "code",
     "collapsed": false,
     "input": [
      "print sayHello()"
     ],
     "language": "python",
     "metadata": {},
     "outputs": [
      {
       "output_type": "stream",
       "stream": "stdout",
       "text": [
        " ----- HELLO !!! ----- \n",
        "None\n"
       ]
      }
     ],
     "prompt_number": 39
    },
    {
     "cell_type": "code",
     "collapsed": false,
     "input": [
      "type(sayHello())"
     ],
     "language": "python",
     "metadata": {},
     "outputs": [
      {
       "output_type": "stream",
       "stream": "stdout",
       "text": [
        " ----- HELLO !!! ----- \n"
       ]
      },
      {
       "metadata": {},
       "output_type": "pyout",
       "prompt_number": 40,
       "text": [
        "NoneType"
       ]
      }
     ],
     "prompt_number": 40
    },
    {
     "cell_type": "heading",
     "level": 2,
     "metadata": {},
     "source": [
      "Function arguments"
     ]
    },
    {
     "cell_type": "code",
     "collapsed": false,
     "input": [
      "def printSquare(n, verbose):\n",
      "    if verbose == True:\n",
      "        print 'The square of ' + str(n) + ' is: ' + str(n*n)\n",
      "    elif verbose == False:\n",
      "        print str(n*n)\n",
      "    else:\n",
      "        print 'Invalid verbose argument passed'\n",
      " \n",
      "printSquare(2, True)  # Produces long string\n",
      "printSquare(3, False) # Produces short string\n",
      "printSquare(3,5)      # Produces error message"
     ],
     "language": "python",
     "metadata": {},
     "outputs": [
      {
       "output_type": "stream",
       "stream": "stdout",
       "text": [
        "The square of 2 is: 4\n",
        "9\n",
        "Invalid verbose argument passed\n"
       ]
      }
     ],
     "prompt_number": 41
    },
    {
     "cell_type": "markdown",
     "metadata": {},
     "source": [
      "- **Instead of positional arguments, we can use keyword arguments, where order is not important**\n",
      "- **One can use a mixture of positional and keyword arguments, but all positional arguments must be placed before keyword arguments**"
     ]
    },
    {
     "cell_type": "code",
     "collapsed": false,
     "input": [
      "printSquare(verbose = True, n = 2)  # produces the same as printSquare(2, True)"
     ],
     "language": "python",
     "metadata": {},
     "outputs": [
      {
       "output_type": "stream",
       "stream": "stdout",
       "text": [
        "The square of 2 is: 4\n"
       ]
      }
     ],
     "prompt_number": 42
    },
    {
     "cell_type": "code",
     "collapsed": false,
     "input": [
      "def foo(A,B,C,D,E):\n",
      "    print A,B,C,D,E"
     ],
     "language": "python",
     "metadata": {},
     "outputs": [],
     "prompt_number": 43
    },
    {
     "cell_type": "code",
     "collapsed": false,
     "input": [
      "foo(1,2,3,4,5)      # Correct, no names given"
     ],
     "language": "python",
     "metadata": {},
     "outputs": [
      {
       "output_type": "stream",
       "stream": "stdout",
       "text": [
        "1 2 3 4 5\n"
       ]
      }
     ],
     "prompt_number": 44
    },
    {
     "cell_type": "code",
     "collapsed": false,
     "input": [
      "foo(1,2,3,D=4,E=5)  # Correct as the first 3 get assigned to the first\n",
      "                    # 3 of the function and then the last two are \n",
      "                    # specified by name"
     ],
     "language": "python",
     "metadata": {},
     "outputs": [
      {
       "output_type": "stream",
       "stream": "stdout",
       "text": [
        "1 2 3 4 5\n"
       ]
      }
     ],
     "prompt_number": 45
    },
    {
     "cell_type": "code",
     "collapsed": false,
     "input": [
      "foo(C=3,1, 2,4,5)   # Incorrect and will fail as a name has been\n",
      "                    # specified first but then Python doesn't know\n",
      "                    # where to assign the rest"
     ],
     "language": "python",
     "metadata": {},
     "outputs": [
      {
       "ename": "SyntaxError",
       "evalue": "non-keyword arg after keyword arg (<ipython-input-46-2580d4d7f5ef>, line 1)",
       "output_type": "pyerr",
       "traceback": [
        "\u001b[0;36m  File \u001b[0;32m\"<ipython-input-46-2580d4d7f5ef>\"\u001b[0;36m, line \u001b[0;32m1\u001b[0m\n\u001b[0;31m    foo(C=3,1, 2,4,5)   # Incorrect and will fail as a name has been\u001b[0m\n\u001b[0;31mSyntaxError\u001b[0m\u001b[0;31m:\u001b[0m non-keyword arg after keyword arg\n"
       ]
      }
     ],
     "prompt_number": 46
    },
    {
     "cell_type": "markdown",
     "metadata": {},
     "source": [
      "- **one can use default values for arguments**"
     ]
    },
    {
     "cell_type": "code",
     "collapsed": false,
     "input": [
      "def printSquare(n, verbose = False):\n",
      "    if verbose == True:\n",
      "        print 'The square of ' + str(n) + ' is: ' + str(n*n)\n",
      "    elif verbose == False:\n",
      "        print str(n*n)\n",
      "    else:\n",
      "        print 'Invalid verbose argument passed'\n",
      " \n",
      "printSquare(2)                  # Produces short message\n",
      "printSquare(2, verbose = True)  # Produces long message"
     ],
     "language": "python",
     "metadata": {},
     "outputs": [
      {
       "output_type": "stream",
       "stream": "stdout",
       "text": [
        "4\n",
        "The square of 2 is: 4\n"
       ]
      }
     ],
     "prompt_number": 47
    },
    {
     "cell_type": "markdown",
     "metadata": {},
     "source": [
      "- **Advanced topic: using lists and dictionaries as arguments**"
     ]
    },
    {
     "cell_type": "code",
     "collapsed": false,
     "input": [
      "l=range(5)\n",
      "foo(*l)"
     ],
     "language": "python",
     "metadata": {},
     "outputs": [
      {
       "output_type": "stream",
       "stream": "stdout",
       "text": [
        "0 1 2 3 4\n"
       ]
      }
     ],
     "prompt_number": 48
    },
    {
     "cell_type": "code",
     "collapsed": false,
     "input": [
      "d={'A':3,'B':5,'C':9,'D':10,'E':0}\n",
      "foo(**d)"
     ],
     "language": "python",
     "metadata": {},
     "outputs": [
      {
       "output_type": "stream",
       "stream": "stdout",
       "text": [
        "3 5 9 10 0\n"
       ]
      }
     ],
     "prompt_number": 49
    },
    {
     "cell_type": "code",
     "collapsed": false,
     "input": [
      "newd={'D':1,'E':2}\n",
      "foo(1,2,3,**newd)"
     ],
     "language": "python",
     "metadata": {},
     "outputs": [
      {
       "output_type": "stream",
       "stream": "stdout",
       "text": [
        "1 2 3 1 2\n"
       ]
      }
     ],
     "prompt_number": 50
    },
    {
     "cell_type": "code",
     "collapsed": false,
     "input": [
      "foo(1,2,3,**d)"
     ],
     "language": "python",
     "metadata": {},
     "outputs": [
      {
       "ename": "TypeError",
       "evalue": "foo() got multiple values for keyword argument 'A'",
       "output_type": "pyerr",
       "traceback": [
        "\u001b[0;31m---------------------------------------------------------------------------\u001b[0m\n\u001b[0;31mTypeError\u001b[0m                                 Traceback (most recent call last)",
        "\u001b[0;32m<ipython-input-51-1ed12194d077>\u001b[0m in \u001b[0;36m<module>\u001b[0;34m()\u001b[0m\n\u001b[0;32m----> 1\u001b[0;31m \u001b[0mfoo\u001b[0m\u001b[0;34m(\u001b[0m\u001b[0;36m1\u001b[0m\u001b[0;34m,\u001b[0m\u001b[0;36m2\u001b[0m\u001b[0;34m,\u001b[0m\u001b[0;36m3\u001b[0m\u001b[0;34m,\u001b[0m\u001b[0;34m**\u001b[0m\u001b[0md\u001b[0m\u001b[0;34m)\u001b[0m\u001b[0;34m\u001b[0m\u001b[0m\n\u001b[0m",
        "\u001b[0;31mTypeError\u001b[0m: foo() got multiple values for keyword argument 'A'"
       ]
      }
     ],
     "prompt_number": 51
    },
    {
     "cell_type": "heading",
     "level": 2,
     "metadata": {},
     "source": [
      "Return values"
     ]
    },
    {
     "cell_type": "code",
     "collapsed": false,
     "input": [
      "def square(n):\n",
      "    return n*n\n",
      " \n",
      "two_squared = square(2)\n",
      "# or print it as before\n",
      "print square(2)"
     ],
     "language": "python",
     "metadata": {},
     "outputs": [
      {
       "output_type": "stream",
       "stream": "stdout",
       "text": [
        "4\n"
       ]
      }
     ],
     "prompt_number": 52
    },
    {
     "cell_type": "markdown",
     "metadata": {},
     "source": [
      "- **functions can return multiple values**"
     ]
    },
    {
     "cell_type": "code",
     "collapsed": false,
     "input": [
      "def square(x,y):\n",
      "    return x*x, y*y\n",
      " \n",
      "t = square(2,3)\n",
      "print t  # Produces (4,9)\n",
      "# Now access the tuple with usual operations"
     ],
     "language": "python",
     "metadata": {},
     "outputs": [
      {
       "output_type": "stream",
       "stream": "stdout",
       "text": [
        "(4, 9)\n"
       ]
      }
     ],
     "prompt_number": 53
    },
    {
     "cell_type": "markdown",
     "metadata": {},
     "source": [
      "- **the output values can be unpacked directly, similarly to the `enummerate` example**"
     ]
    },
    {
     "cell_type": "code",
     "collapsed": false,
     "input": [
      "def square(x,y):\n",
      "    return x*x, y*y\n",
      " \n",
      "xsq, ysq = square(2,3)\n",
      "print xsq  # Prints 4\n",
      "print ysq  # Prints 9 "
     ],
     "language": "python",
     "metadata": {},
     "outputs": [
      {
       "output_type": "stream",
       "stream": "stdout",
       "text": [
        "4\n",
        "9\n"
       ]
      }
     ],
     "prompt_number": 54
    },
    {
     "cell_type": "markdown",
     "metadata": {},
     "source": [
      "***Exercise 2: Starting from the previous program, write a function to return the Fibonacci numbers. The function should contain two parameters: the numbers to be returned (default 20), and a boolean flag (default false). If the flag is false, just return the list of Fibonacci numbers. If the flag is true, return two lists. The first is the Fibonacci numbers, the second is the ratio of Fibonacci numbers fib[i]/fib[i-1]. The list should be empty if n<=2, and it should not contain 1/0 as the first element.***"
     ]
    },
    {
     "cell_type": "heading",
     "level": 1,
     "metadata": {},
     "source": [
      "Modules"
     ]
    },
    {
     "cell_type": "markdown",
     "metadata": {},
     "source": [
      "- **collection of functions and abjects in a library (a file with .py extension)**\n",
      "- **functions must be imported**\n",
      "- **avoid name conflicts (same function name defined in different modules)**"
     ]
    },
    {
     "cell_type": "code",
     "collapsed": false,
     "input": [
      "## File: mymath.py ##\n",
      "def square(n):\n",
      "    return n*n\n",
      " \n",
      "def cube(n):\n",
      "    return n*n*n\n",
      " \n",
      "def average(values):\n",
      "    nvals = len(values)\n",
      "    sum = 0.0\n",
      "    for v in values:\n",
      "        sum += v \n",
      "    return float(sum)/nvals"
     ],
     "language": "python",
     "metadata": {},
     "outputs": [],
     "prompt_number": 55
    },
    {
     "cell_type": "code",
     "collapsed": false,
     "input": [
      "## My script using the math module ##\n",
      "import mymath  # Note no .py\n",
      " \n",
      "values = [2,4,6,8,10]\n",
      "print 'Squares:'\n",
      "for v in values:\n",
      "    print mymath.square(v)\n",
      "print 'Cubes:'\n",
      "for v in values:\n",
      "    print mymath.cube(v)\n",
      " \n",
      "print 'Average: ' + str(mymath.average(values))"
     ],
     "language": "python",
     "metadata": {},
     "outputs": [
      {
       "ename": "ImportError",
       "evalue": "No module named mymath",
       "output_type": "pyerr",
       "traceback": [
        "\u001b[0;31m---------------------------------------------------------------------------\u001b[0m\n\u001b[0;31mImportError\u001b[0m                               Traceback (most recent call last)",
        "\u001b[0;32m<ipython-input-56-8297549e15b7>\u001b[0m in \u001b[0;36m<module>\u001b[0;34m()\u001b[0m\n\u001b[1;32m      1\u001b[0m \u001b[0;31m## My script using the math module ##\u001b[0m\u001b[0;34m\u001b[0m\u001b[0;34m\u001b[0m\u001b[0m\n\u001b[0;32m----> 2\u001b[0;31m \u001b[0;32mimport\u001b[0m \u001b[0mmymath\u001b[0m  \u001b[0;31m# Note no .py\u001b[0m\u001b[0;34m\u001b[0m\u001b[0m\n\u001b[0m\u001b[1;32m      3\u001b[0m \u001b[0;34m\u001b[0m\u001b[0m\n\u001b[1;32m      4\u001b[0m \u001b[0mvalues\u001b[0m \u001b[0;34m=\u001b[0m \u001b[0;34m[\u001b[0m\u001b[0;36m2\u001b[0m\u001b[0;34m,\u001b[0m\u001b[0;36m4\u001b[0m\u001b[0;34m,\u001b[0m\u001b[0;36m6\u001b[0m\u001b[0;34m,\u001b[0m\u001b[0;36m8\u001b[0m\u001b[0;34m,\u001b[0m\u001b[0;36m10\u001b[0m\u001b[0;34m]\u001b[0m\u001b[0;34m\u001b[0m\u001b[0m\n\u001b[1;32m      5\u001b[0m \u001b[0;32mprint\u001b[0m \u001b[0;34m'Squares:'\u001b[0m\u001b[0;34m\u001b[0m\u001b[0m\n",
        "\u001b[0;31mImportError\u001b[0m: No module named mymath"
       ]
      }
     ],
     "prompt_number": 56
    },
    {
     "cell_type": "code",
     "collapsed": false,
     "input": [
      "import mymath as mt\n",
      " \n",
      "print mt.square(2)\n",
      "print mt.square(3)"
     ],
     "language": "python",
     "metadata": {},
     "outputs": [
      {
       "ename": "ImportError",
       "evalue": "No module named mymath",
       "output_type": "pyerr",
       "traceback": [
        "\u001b[0;31m---------------------------------------------------------------------------\u001b[0m\n\u001b[0;31mImportError\u001b[0m                               Traceback (most recent call last)",
        "\u001b[0;32m<ipython-input-57-0717d9a057bc>\u001b[0m in \u001b[0;36m<module>\u001b[0;34m()\u001b[0m\n\u001b[0;32m----> 1\u001b[0;31m \u001b[0;32mimport\u001b[0m \u001b[0mmymath\u001b[0m \u001b[0;32mas\u001b[0m \u001b[0mmt\u001b[0m\u001b[0;34m\u001b[0m\u001b[0m\n\u001b[0m\u001b[1;32m      2\u001b[0m \u001b[0;34m\u001b[0m\u001b[0m\n\u001b[1;32m      3\u001b[0m \u001b[0;32mprint\u001b[0m \u001b[0mmt\u001b[0m\u001b[0;34m.\u001b[0m\u001b[0msquare\u001b[0m\u001b[0;34m(\u001b[0m\u001b[0;36m2\u001b[0m\u001b[0;34m)\u001b[0m\u001b[0;34m\u001b[0m\u001b[0m\n\u001b[1;32m      4\u001b[0m \u001b[0;32mprint\u001b[0m \u001b[0mmt\u001b[0m\u001b[0;34m.\u001b[0m\u001b[0msquare\u001b[0m\u001b[0;34m(\u001b[0m\u001b[0;36m3\u001b[0m\u001b[0;34m)\u001b[0m\u001b[0;34m\u001b[0m\u001b[0m\n",
        "\u001b[0;31mImportError\u001b[0m: No module named mymath"
       ]
      }
     ],
     "prompt_number": 57
    },
    {
     "cell_type": "code",
     "collapsed": false,
     "input": [
      "from mymath import *\n",
      "average(values)"
     ],
     "language": "python",
     "metadata": {},
     "outputs": [
      {
       "ename": "ImportError",
       "evalue": "No module named mymath",
       "output_type": "pyerr",
       "traceback": [
        "\u001b[0;31m---------------------------------------------------------------------------\u001b[0m\n\u001b[0;31mImportError\u001b[0m                               Traceback (most recent call last)",
        "\u001b[0;32m<ipython-input-58-72dfc17ceda1>\u001b[0m in \u001b[0;36m<module>\u001b[0;34m()\u001b[0m\n\u001b[0;32m----> 1\u001b[0;31m \u001b[0;32mfrom\u001b[0m \u001b[0mmymath\u001b[0m \u001b[0;32mimport\u001b[0m \u001b[0;34m*\u001b[0m\u001b[0;34m\u001b[0m\u001b[0m\n\u001b[0m\u001b[1;32m      2\u001b[0m \u001b[0maverage\u001b[0m\u001b[0;34m(\u001b[0m\u001b[0mvalues\u001b[0m\u001b[0;34m)\u001b[0m\u001b[0;34m\u001b[0m\u001b[0m\n",
        "\u001b[0;31mImportError\u001b[0m: No module named mymath"
       ]
      }
     ],
     "prompt_number": 58
    },
    {
     "cell_type": "markdown",
     "metadata": {},
     "source": [
      "- **python is looking for modules in the current directory, and in a specified list of folders, specified by the PYTHONPATH variable**"
     ]
    },
    {
     "cell_type": "code",
     "collapsed": false,
     "input": [
      "import sys\n",
      "print sys.path"
     ],
     "language": "python",
     "metadata": {},
     "outputs": [
      {
       "output_type": "stream",
       "stream": "stdout",
       "text": [
        "['', '/usr/lib/python2.7', '/usr/lib/python2.7/plat-x86_64-linux-gnu', '/usr/lib/python2.7/lib-tk', '/usr/lib/python2.7/lib-old', '/usr/lib/python2.7/lib-dynload', '/usr/local/lib/python2.7/dist-packages', '/usr/lib/python2.7/dist-packages', '/usr/lib/python2.7/dist-packages/PILcompat', '/usr/lib/python2.7/dist-packages/gtk-2.0', '/usr/lib/python2.7/dist-packages/ubuntu-sso-client', '/usr/lib/python2.7/dist-packages/IPython/extensions']\n"
       ]
      }
     ],
     "prompt_number": 59
    },
    {
     "cell_type": "markdown",
     "metadata": {},
     "source": [
      "- **`sys.path` is a list, and you can append or insert the path to your module in it**"
     ]
    },
    {
     "cell_type": "heading",
     "level": 2,
     "metadata": {},
     "source": [
      "Python Standard Library https://docs.python.org/2/library/"
     ]
    },
    {
     "cell_type": "markdown",
     "metadata": {},
     "source": [
      "- **datetime**"
     ]
    },
    {
     "cell_type": "code",
     "collapsed": false,
     "input": [
      "import datetime as dt\n",
      "format = '%Y-%m-%dT%H:%M:%S'\n",
      "t1 = dt.datetime.strptime('2008-10-12T14:45:52', format)\n",
      "print 'Day', t1.day\n",
      "print 'Month',t1.month\n",
      "print 'Minute',t1.minute\n",
      "print 'Second',t1.second\n",
      " \n",
      "# Define todays date and time\n",
      "t2 = dt.datetime.now()\n",
      "diff = t2 - t1\n",
      "print 'How many days difference?',diff.days"
     ],
     "language": "python",
     "metadata": {},
     "outputs": [
      {
       "output_type": "stream",
       "stream": "stdout",
       "text": [
        "Day 12\n",
        "Month 10\n",
        "Minute 45\n",
        "Second 52\n",
        "How many days difference? 2568\n"
       ]
      }
     ],
     "prompt_number": 60
    },
    {
     "cell_type": "markdown",
     "metadata": {},
     "source": [
      "- **os.path**"
     ]
    },
    {
     "cell_type": "code",
     "collapsed": false,
     "input": [
      "import os.path\n",
      " \n",
      "directory = 'C:/Users/Files'\n",
      "file1 = 'run1.txt'\n",
      "fullpath = os.path.join(directory, file1)  # Join the paths together in\n",
      "                                           # the correct manner\n",
      " \n",
      "# print stuff about the path\n",
      "print os.path.basename(fullpath)  # prints 'run1.txt'\n",
      "print os.path.dirname(fullpath)  # prints 'C:\\Users\\Files'\n",
      " \n",
      "# A userful function is expanduser which can expand the '~' token to a\n",
      "# user's directory (Documents and Settings\\username on WinXP  and \n",
      "# /home/username on Linux/OSX)\n",
      "print os.path.expanduser('~/test') # prints /home/[MYUSERNAME]/test on\n",
      "                                   # this machine where [MYUSERNAME] is\n",
      "                                   # replaced with the login"
     ],
     "language": "python",
     "metadata": {},
     "outputs": [
      {
       "output_type": "stream",
       "stream": "stdout",
       "text": [
        "run1.txt\n",
        "C:/Users/Files\n",
        "/home/3y9/test\n"
       ]
      }
     ],
     "prompt_number": 61
    },
    {
     "cell_type": "code",
     "collapsed": false,
     "input": [
      "print os.path.isdir('/SNS/users/shared')\n",
      "print os.path.isfile('/path/to/nowhere.txt')"
     ],
     "language": "python",
     "metadata": {},
     "outputs": [
      {
       "output_type": "stream",
       "stream": "stdout",
       "text": [
        "True\n",
        "False\n"
       ]
      }
     ],
     "prompt_number": 62
    },
    {
     "cell_type": "markdown",
     "metadata": {},
     "source": [
      "- **math  (note- we will use numpy later instead)**"
     ]
    },
    {
     "cell_type": "code",
     "collapsed": false,
     "input": [
      "import math\n",
      "print math.sin(3.)\n",
      "print math.log(42.)\n",
      "print math.degrees(math.pi)"
     ],
     "language": "python",
     "metadata": {},
     "outputs": [
      {
       "output_type": "stream",
       "stream": "stdout",
       "text": [
        "0.14112000806\n",
        "3.73766961828\n",
        "180.0\n"
       ]
      }
     ],
     "prompt_number": 63
    },
    {
     "cell_type": "markdown",
     "metadata": {},
     "source": [
      "- **glob  - returns pathnames matching pattern**"
     ]
    },
    {
     "cell_type": "code",
     "collapsed": false,
     "input": [
      "import glob\n",
      "print glob.glob('/SNS/users/shared/*')"
     ],
     "language": "python",
     "metadata": {},
     "outputs": [
      {
       "output_type": "stream",
       "stream": "stdout",
       "text": [
        "['/SNS/users/shared/MantidTrainingCourseData', '/SNS/users/shared/SasViewTrainingCourseData']\n"
       ]
      }
     ],
     "prompt_number": 64
    },
    {
     "cell_type": "markdown",
     "metadata": {},
     "source": [
      "***Exercise 3: In the mantid training course directory there are several text files. Create a dictionary containing as keys the name of the files, without paths or extensions, and as values the size of the files. Use glob, to search for the files with txt extension, then os.path.basename, os.path.splitext, and os.path.getsize ***"
     ]
    },
    {
     "cell_type": "heading",
     "level": 1,
     "metadata": {},
     "source": [
      "Numpy module  http://docs.scipy.org/"
     ]
    },
    {
     "cell_type": "markdown",
     "metadata": {},
     "source": [
      "- **numerical module for arrays - similar lo lists, but all elements must be the same type**\n",
      "- **designed for fast computation**"
     ]
    },
    {
     "cell_type": "code",
     "collapsed": false,
     "input": [
      "import numpy as np\n",
      "a=np.array([1,2,3])\n",
      "print a\n",
      "print a**2\n",
      "print type(a)\n",
      "print a.shape\n",
      "print len(a)\n",
      "b=np.array([[1,2,3],[4,5,6]])\n",
      "print b\n",
      "print b.shape"
     ],
     "language": "python",
     "metadata": {},
     "outputs": [
      {
       "output_type": "stream",
       "stream": "stdout",
       "text": [
        "[1 2 3]\n",
        "[1 4 9]\n",
        "<type 'numpy.ndarray'>\n",
        "(3,)\n",
        "3\n",
        "[[1 2 3]\n",
        " [4 5 6]]\n",
        "(2, 3)\n"
       ]
      }
     ],
     "prompt_number": 65
    },
    {
     "cell_type": "markdown",
     "metadata": {},
     "source": [
      "- **other array creation routines**"
     ]
    },
    {
     "cell_type": "code",
     "collapsed": false,
     "input": [
      "print np.arange(1,7,2) #start, stop(exclusive), step\n",
      "print np.arange(4)"
     ],
     "language": "python",
     "metadata": {},
     "outputs": [
      {
       "output_type": "stream",
       "stream": "stdout",
       "text": [
        "[1 3 5]\n",
        "[0 1 2 3]\n"
       ]
      }
     ],
     "prompt_number": 66
    },
    {
     "cell_type": "code",
     "collapsed": false,
     "input": [
      "print np.linspace(0,np.pi,10) #min,max, number of steps (default 50)"
     ],
     "language": "python",
     "metadata": {},
     "outputs": [
      {
       "output_type": "stream",
       "stream": "stdout",
       "text": [
        "[ 0.          0.34906585  0.6981317   1.04719755  1.3962634   1.74532925\n",
        "  2.0943951   2.44346095  2.7925268   3.14159265]\n"
       ]
      }
     ],
     "prompt_number": 67
    },
    {
     "cell_type": "code",
     "collapsed": false,
     "input": [
      "print np.ones((3,3))"
     ],
     "language": "python",
     "metadata": {},
     "outputs": [
      {
       "output_type": "stream",
       "stream": "stdout",
       "text": [
        "[[ 1.  1.  1.]\n",
        " [ 1.  1.  1.]\n",
        " [ 1.  1.  1.]]\n"
       ]
      }
     ],
     "prompt_number": 68
    },
    {
     "cell_type": "code",
     "collapsed": false,
     "input": [
      "print np.eye(3)"
     ],
     "language": "python",
     "metadata": {},
     "outputs": [
      {
       "output_type": "stream",
       "stream": "stdout",
       "text": [
        "[[ 1.  0.  0.]\n",
        " [ 0.  1.  0.]\n",
        " [ 0.  0.  1.]]\n"
       ]
      }
     ],
     "prompt_number": 69
    },
    {
     "cell_type": "code",
     "collapsed": false,
     "input": [
      "print np.zeros((2,3))"
     ],
     "language": "python",
     "metadata": {},
     "outputs": [
      {
       "output_type": "stream",
       "stream": "stdout",
       "text": [
        "[[ 0.  0.  0.]\n",
        " [ 0.  0.  0.]]\n"
       ]
      }
     ],
     "prompt_number": 70
    },
    {
     "cell_type": "markdown",
     "metadata": {},
     "source": [
      "- **indexing is similar to the lists**"
     ]
    },
    {
     "cell_type": "code",
     "collapsed": false,
     "input": [
      "print b[1,:]"
     ],
     "language": "python",
     "metadata": {},
     "outputs": [
      {
       "output_type": "stream",
       "stream": "stdout",
       "text": [
        "[4 5 6]\n"
       ]
      }
     ],
     "prompt_number": 71
    },
    {
     "cell_type": "markdown",
     "metadata": {},
     "source": [
      "- **statistical and mathematical functions**"
     ]
    },
    {
     "cell_type": "code",
     "collapsed": false,
     "input": [
      "a=np.arange(6)\n",
      "print a\n",
      "print a+2\n",
      "print a.mean()\n",
      "print a.sum()\n",
      "print np.sin(np.pi*a/4)"
     ],
     "language": "python",
     "metadata": {},
     "outputs": [
      {
       "output_type": "stream",
       "stream": "stdout",
       "text": [
        "[0 1 2 3 4 5]\n",
        "[2 3 4 5 6 7]\n",
        "2.5\n",
        "15\n",
        "[  0.00000000e+00   7.07106781e-01   1.00000000e+00   7.07106781e-01\n",
        "   1.22464680e-16  -7.07106781e-01]\n"
       ]
      }
     ],
     "prompt_number": 72
    },
    {
     "cell_type": "code",
     "collapsed": false,
     "input": [
      "x=np.linspace(-np.pi,np.pi,10000)\n",
      "y=np.sin(x)\n",
      "print 'Maximum value of y is ',y.max(), ' found at x = ',x[y.argmax()]/np.pi,'*pi'"
     ],
     "language": "python",
     "metadata": {},
     "outputs": [
      {
       "output_type": "stream",
       "stream": "stdout",
       "text": [
        "Maximum value of y is  0.999999987661  found at x =  0.499949994999 *pi\n"
       ]
      }
     ],
     "prompt_number": 73
    },
    {
     "cell_type": "markdown",
     "metadata": {},
     "source": [
      "- **note that math also contain a sin function, that does not act on arrays. Numpy functions can deal with floats**"
     ]
    },
    {
     "cell_type": "heading",
     "level": 1,
     "metadata": {},
     "source": [
      "Matplotlib module  - http://matplotlib.org/"
     ]
    },
    {
     "cell_type": "markdown",
     "metadata": {},
     "source": [
      "- **module containg plotting routines**\n",
      "- **`matplotlib.pyplot` modeled to resemble Matlab**"
     ]
    },
    {
     "cell_type": "code",
     "collapsed": false,
     "input": [
      "import numpy as np\n",
      "import matplotlib.pyplot as plt\n",
      "\n",
      "X = np.linspace(-np.pi, np.pi, 256, endpoint=True)\n",
      "C, S = np.cos(X), np.sin(X)\n",
      "\n",
      "plt.plot(X, C)\n",
      "plt.plot(X, S,'ro')\n",
      "\n",
      "plt.show()"
     ],
     "language": "python",
     "metadata": {},
     "outputs": [
      {
       "metadata": {},
       "output_type": "display_data",
       "png": "[encoded data removed]",
       "text": [
        "<matplotlib.figure.Figure at 0x7f966d1ba710>"
       ]
      }
     ],
     "prompt_number": 74
    },
    {
     "cell_type": "code",
     "collapsed": false,
     "input": [
      "import numpy as np\n",
      "import matplotlib.pyplot as plt\n",
      "\n",
      "X = np.linspace(-np.pi, np.pi, 256, endpoint=True)\n",
      "C, S = np.cos(X), np.sin(X)\n",
      "\n",
      "plt.plot(X, C)\n",
      "plt.plot(X, S,'ro')\n",
      "\n",
      "plt.xticks([-np.pi, -np.pi/2, 0, np.pi/2, np.pi],\n",
      "          [r'$-\\pi$', r'$-\\pi/2$', r'$0$', r'$+\\pi/2$', r'$+\\pi$'])\n",
      "\n",
      "plt.yticks([-1, 0, +1],\n",
      "          [r'$-1$', r'$0$', r'$+1$'])\n",
      "plt.show()"
     ],
     "language": "python",
     "metadata": {},
     "outputs": [
      {
       "metadata": {},
       "output_type": "display_data",
       "png": "[encoded data removed]",
       "text": [
        "<matplotlib.figure.Figure at 0x7f966d169a90>"
       ]
      }
     ],
     "prompt_number": 75
    },
    {
     "cell_type": "code",
     "collapsed": false,
     "input": [
      "import numpy as np\n",
      "import matplotlib.pyplot as plt\n",
      "\n",
      "X=np.arange(10)\n",
      "Y=np.sin(X)\n",
      "err=np.sqrt(np.abs(Y))*0.1\n",
      "plt.errorbar(X,Y,err,fmt='bs')\n",
      "plt.show()"
     ],
     "language": "python",
     "metadata": {},
     "outputs": [
      {
       "metadata": {},
       "output_type": "display_data",
       "png": "[encoded data removed]",
       "text": [
        "<matplotlib.figure.Figure at 0x7f966d0db2d0>"
       ]
      }
     ],
     "prompt_number": 76
    },
    {
     "cell_type": "code",
     "collapsed": false,
     "input": [
      "import numpy as np\n",
      "import matplotlib.pyplot as plt\n",
      "\n",
      "A=np.random.rand(5,5)\n",
      "plt.imshow(A, interpolation='nearest')\n",
      "plt.grid(True)\n",
      "plt.show()"
     ],
     "language": "python",
     "metadata": {},
     "outputs": [
      {
       "metadata": {},
       "output_type": "display_data",
       "png": "[encoded data removed]",
       "text": [
        "<matplotlib.figure.Figure at 0x7f966d06c690>"
       ]
      }
     ],
     "prompt_number": 77
    },
    {
     "cell_type": "code",
     "collapsed": false,
     "input": [
      "import matplotlib.pyplot as plt\n",
      "\n",
      "plt.figure(figsize=(6, 4))\n",
      "plt.subplot(2, 1, 1)\n",
      "plt.xticks(())\n",
      "plt.yticks(())\n",
      "plt.text(0.5, 0.5, 'subplot(2,1,1)', ha='center', va='center',\n",
      "        size=24, alpha=.5)\n",
      "\n",
      "plt.subplot(2, 1, 2)\n",
      "plt.xticks(())\n",
      "plt.yticks(())\n",
      "plt.text(0.5, 0.5, 'subplot(2,1,2)', ha='center', va='center',\n",
      "        size=24, alpha=.5)\n",
      "\n",
      "plt.tight_layout()\n",
      "plt.show()"
     ],
     "language": "python",
     "metadata": {},
     "outputs": [
      {
       "metadata": {},
       "output_type": "display_data",
       "png": "[encoded data removed]",
       "text": [
        "<matplotlib.figure.Figure at 0x7f966cf26dd0>"
       ]
      }
     ],
     "prompt_number": 78
    },
    {
     "cell_type": "code",
     "collapsed": false,
     "input": [
      "import matplotlib.pyplot as plt\n",
      "\n",
      "plt.figure(figsize=(6, 4))\n",
      "plt.subplot(2, 2, 1)\n",
      "plt.xticks(())\n",
      "plt.yticks(())\n",
      "plt.text(0.5, 0.5, 'subplot(2,2,1)', ha='center', va='center',\n",
      "        size=20, alpha=.5)\n",
      "\n",
      "plt.subplot(2, 2, 2)\n",
      "plt.xticks(())\n",
      "plt.yticks(())\n",
      "plt.text(0.5, 0.5, 'subplot(2,2,2)', ha='center', va='center',\n",
      "        size=20, alpha=.5)\n",
      "\n",
      "plt.subplot(2, 2, 3)\n",
      "plt.xticks(())\n",
      "plt.yticks(())\n",
      "\n",
      "plt.text(0.5, 0.5, 'subplot(2,2,3)', ha='center', va='center',\n",
      "        size=20, alpha=.5)\n",
      "\n",
      "plt.subplot(2, 2, 4)\n",
      "plt.xticks(())\n",
      "plt.yticks(())\n",
      "plt.text(0.5, 0.5, 'subplot(2,2,4)', ha='center', va='center',\n",
      "        size=20, alpha=.5)\n",
      "\n",
      "plt.tight_layout()\n",
      "plt.show()\n"
     ],
     "language": "python",
     "metadata": {},
     "outputs": [
      {
       "metadata": {},
       "output_type": "display_data",
       "png": "[encoded data removed]",
       "text": [
        "<matplotlib.figure.Figure at 0x7f966ce60f90>"
       ]
      }
     ],
     "prompt_number": 79
    },
    {
     "cell_type": "markdown",
     "metadata": {},
     "source": [
      "***Exercise 4: Plot the function $y=x^3-2x^2-19x+20$, from -5 to 7, using 1000 points. Show the grid. You can guess that the roots of this polynomial are -4, 1 and 5. To check, use these values as initial guesses, generate 200 points in a range $\\pm 2$ around the guesses, calculate y, find the index where $|y|$ is minim, and the corresponding $x$ is the solution. Try with a different number of generated points, both odd and even.***"
     ]
    },
    {
     "cell_type": "markdown",
     "metadata": {},
     "source": [
      "***Exercise 5: Plot the ratio of Fibonacci numbers generated using the function from a previous exercise. The x axis is the index of the corresponding large number. Choose the symbol to be red squares. Show that the converge towards the golden ratio $(1+\\sqrt{5})/2$, by plotting a blue line from x=0 to x=20. Add some labels to the axes.***"
     ]
    },
    {
     "cell_type": "heading",
     "level": 1,
     "metadata": {},
     "source": [
      "Working with ASCII files"
     ]
    },
    {
     "cell_type": "markdown",
     "metadata": {},
     "source": [
      "- **To be able to read/write a file we must first open a \"handle\" to it through the open command**\n",
      "- **When done with reading/writing, close the file**\n"
     ]
    },
    {
     "cell_type": "code",
     "collapsed": false,
     "input": [
      "handle = open('filename.txt', 'r')"
     ],
     "language": "python",
     "metadata": {},
     "outputs": []
    },
    {
     "cell_type": "markdown",
     "metadata": {},
     "source": [
      "- **The flags are**\n",
      "1. read - 'r'\n",
      "2. write - 'w'\n",
      "3. append - 'a'\n",
      "4. and binary - 'b'.\n"
     ]
    },
    {
     "cell_type": "code",
     "collapsed": false,
     "input": [
      "contents = handle.read() #reads everything into one big chunk\n",
      "for line in hadle: #reads line by line\n",
      "    print line"
     ],
     "language": "python",
     "metadata": {},
     "outputs": []
    },
    {
     "cell_type": "markdown",
     "metadata": {},
     "source": [
      "- **Note that in the example above the line contains a newline character. You can either strip it with `line.rstrip()` or add a comma after `print line`**"
     ]
    },
    {
     "cell_type": "code",
     "collapsed": false,
     "input": [
      "handle.close()"
     ],
     "language": "python",
     "metadata": {},
     "outputs": []
    },
    {
     "cell_type": "markdown",
     "metadata": {},
     "source": [
      "- **To write a string to a file, use the `write()` function**"
     ]
    },
    {
     "cell_type": "code",
     "collapsed": false,
     "input": [
      "handle = open('NewFile.txt', 'w')\n",
      "handle.write('1 2 3 4 5 6\\n') #note the newline. write does not put it automatically\n",
      "handle.write('7 8 9 10 11\\n')\n",
      "handle.close()\n",
      " \n",
      "# Produces a file with the numbers on 2 separate lines"
     ],
     "language": "python",
     "metadata": {},
     "outputs": []
    },
    {
     "cell_type": "markdown",
     "metadata": {},
     "source": [
      "***Exercise 6: Choose one of the text files from exercise 3. Read each line as a string, extract the value on the second column, and then calculate the average of all these values.***"
     ]
    },
    {
     "cell_type": "markdown",
     "metadata": {},
     "source": [
      "- **For nicely formatted ASCII files, there is a numpy function to read them**"
     ]
    },
    {
     "cell_type": "code",
     "collapsed": false,
     "input": [
      "import numpy as np\n",
      "data=np.loadtxt('/SNS/users/shared/MantidTrainingCourseData/HB2A_exp0440_scan0001.dat')\n",
      "import matplotlib.pyplot as plt\n",
      "plt.plot(data[:-1,0],data[:-1,3])"
     ],
     "language": "python",
     "metadata": {},
     "outputs": [
      {
       "metadata": {},
       "output_type": "pyout",
       "prompt_number": 81,
       "text": [
        "[<matplotlib.lines.Line2D at 0x7f966d169c90>]"
       ]
      },
      {
       "metadata": {},
       "output_type": "display_data",
       "png": "[encoded data removed]",
       "text": [
        "<matplotlib.figure.Figure at 0x7f966ce87790>"
       ]
      }
     ],
     "prompt_number": 81
    },
    {
     "cell_type": "heading",
     "level": 1,
     "metadata": {},
     "source": [
      "Generating Mantid scripts"
     ]
    },
    {
     "cell_type": "markdown",
     "metadata": {},
     "source": [
      "- **In MantidPlot, you can run several algorithms, then look at the history of a workspace. You can then generate a python script that can be reused**\n",
      "- **If you want to be able to run the cript from outside MantidPlot, you need to tell python where to find the Mantid libraries, and then import those libraries. For simply running algolrithms, import everything from `mantid.simpleapi`**\n",
      "\n",
      "***Exercise 7: Load SEQUOIA run 17880, sum spectra, rebin with a step of 20. Generate the script, add all the necessary stuff to run it from outside MantidPlot. Expand the script (use a for loop) to do the processing of runs 17880 through 17883. Make sure the workspace names are different. Save each workspace in a file in your home directory. Open these files in MantidPlot, and check if they look reasonable (each of them should have one spectra, and all of them should have a peak at about the same time of flight value***"
     ]
    },
    {
     "cell_type": "heading",
     "level": 1,
     "metadata": {},
     "source": [
      "Accessing workspaces"
     ]
    },
    {
     "cell_type": "markdown",
     "metadata": {},
     "source": [
      "- **In the script generated before, the algorithms are using workspaces names. In order to access worspace properties, and to use workspace arithmetic, one needs to get the workspace *handle*.** "
     ]
    },
    {
     "cell_type": "markdown",
     "metadata": {},
     "source": [
      "**Method 1: as a return value of an algorithm call**"
     ]
    },
    {
     "cell_type": "code",
     "collapsed": false,
     "input": [
      "w=Load('SEQ_17880') #Note that there is no need to use the OutputWorkspace property. The output workspace will be called 'w'"
     ],
     "language": "python",
     "metadata": {},
     "outputs": []
    },
    {
     "cell_type": "markdown",
     "metadata": {},
     "source": [
      "***Note that some algorithms return a tuple, and your workspace is only one of the elements. See for example GetEi***"
     ]
    },
    {
     "cell_type": "markdown",
     "metadata": {},
     "source": [
      "**Method 2: using mtd['workspace_name']**"
     ]
    },
    {
     "cell_type": "code",
     "collapsed": false,
     "input": [
      "Load('SEQ_17880',OutputWorkspace='awesomeData')\n",
      "w=mtd['awesomeData'] #note that the handle name is different than the workspace name"
     ],
     "language": "python",
     "metadata": {},
     "outputs": []
    },
    {
     "cell_type": "markdown",
     "metadata": {},
     "source": [
      "***Note that if the name does not exists, python will produce an error***\n",
      "***To find out all workspace names that are available, use the *`mtd.getObjectNames()`* command***"
     ]
    },
    {
     "cell_type": "markdown",
     "metadata": {},
     "source": [
      "**Method 3: using mtd.importAll(). This will generate a handle for each workspace name. The handle name is the same as the workspace name, unless an invalis handle name would result. In that case, a \"cleaned\" name is generated. If the workspace name starts with a number, an underscore will be added at the beginning. All non alphanumeric characters will be replaced by undersocres**"
     ]
    },
    {
     "cell_type": "markdown",
     "metadata": {},
     "source": [
      "- **Workspace algebra**"
     ]
    },
    {
     "cell_type": "code",
     "collapsed": false,
     "input": [
      "w1 = mtd['workspace1']\n",
      "w2 = mtd['workspace2']\n",
      " \n",
      "# Sum the two workspaces and place the output into a third\n",
      "w3 = w1 + w2\n",
      " \n",
      "# Multiply the new workspace by 2 and place the output into a new workspace\n",
      "w4 = w3 * 2\n",
      "\n",
      "# Multiply a workspace by 2 and replace w1 with the output\n",
      "w1 *= 2.0\n",
      " \n",
      "# Add 'workspace2' to 'workspace1' and replace 'workspace1' with the output\n",
      "w1 += w2"
     ],
     "language": "python",
     "metadata": {},
     "outputs": []
    },
    {
     "cell_type": "markdown",
     "metadata": {},
     "source": [
      "- **Reading/writing data**"
     ]
    },
    {
     "cell_type": "markdown",
     "metadata": {},
     "source": [
      "**For matrix workspaces, one can use readX(index),readY(index),readE(index) to read X,E, and E values. These functions return a numpy array of values.**\n",
      "\n",
      "**To find out how many histograms are in a workspace, use `getNumberHistograms()` function.**\n",
      "\n",
      "**One can find the number of bins with the `blocsize()` function.**\n"
     ]
    },
    {
     "cell_type": "code",
     "collapsed": false,
     "input": [
      "# loop access. Print the last value in all spectra\n",
      "for index in range(0, raw_workspace.getNumberHistograms()):\n",
      "    #Note the round brackets followed by the square brackets\n",
      "    print raw_workspace.readY(index)[raw_workspace.blocksize()-1] #we could have just used [-1] instead"
     ],
     "language": "python",
     "metadata": {},
     "outputs": []
    },
    {
     "cell_type": "markdown",
     "metadata": {},
     "source": [
      "**extractX(), extractY(), and extractE() methods return numpy arrays with the shape given by (getNumberHistograms, blocksize) or (getNumberHistograms, blocksize+1) (for X)**"
     ]
    },
    {
     "cell_type": "code",
     "collapsed": false,
     "input": [
      "print w.extractY().shape"
     ],
     "language": "python",
     "metadata": {},
     "outputs": []
    },
    {
     "cell_type": "markdown",
     "metadata": {},
     "source": [
      "**dataX, dataY, and dataE return read/write numpy arrays. Note that you cannot write data into an EventWorkspace**"
     ]
    },
    {
     "cell_type": "code",
     "collapsed": false,
     "input": [
      "xdata=w.dataX(0)\n",
      "xdata+=16666.67\n",
      "ydata=w.dataY(0)\n",
      "ydata=xdata[:-1]"
     ],
     "language": "python",
     "metadata": {},
     "outputs": []
    },
    {
     "cell_type": "markdown",
     "metadata": {},
     "source": [
      "**For MDHistoWorkspaces the read write methods are getSignalArray, getErrorSquaredArray, getNumEventsArray, setSignalArray, setSignalAt, ...** "
     ]
    },
    {
     "cell_type": "markdown",
     "metadata": {},
     "source": [
      "- **Getting information about sample logs**"
     ]
    },
    {
     "cell_type": "markdown",
     "metadata": {},
     "source": [
      "**All the log values are stored in the Run object. This is a dictionary with log names as keys. The values are dependent on the type of log value to be read**"
     ]
    },
    {
     "cell_type": "code",
     "collapsed": false,
     "input": [
      "import sys\n",
      "sys.path.append('/home/3y9/Mantid/Build/bin')\n",
      "from mantid.simpleapi import *\n",
      "w=Load('/SNS/users/shared/MantidTrainingCourseData/CNCS_7860_event.nxs')\n",
      "run=w.getRun()\n",
      "print run.keys()"
     ],
     "language": "python",
     "metadata": {},
     "outputs": [
      {
       "output_type": "stream",
       "stream": "stdout",
       "text": [
        "['ChopperStatus1', 'ChopperStatus2', 'ChopperStatus3', 'ChopperStatus4', 'ChopperStatus5', 'CurrentSP', 'DoubleDiskMode', 'EnergyRequest', 'LKSRampRate', 'LambdaRequest', 'Phase1', 'Phase2', 'Phase3', 'Phase4', 'Phase5', 'PhaseRequest1', 'PhaseRequest2', 'PhaseRequest3', 'PhaseRequest4', 'PhaseRequest5', 'SERotator2', 'SampleTemp', 'Speed1', 'Speed2', 'Speed3', 'Speed4', 'Speed5', 'SpeedRequest1', 'SpeedRequest2', 'SpeedRequest3', 'SpeedRequest4', 'SpeedRequest5', 'TolRequest', 'chtrans', 'frequency', 'huber', 'proton_charge', 'vChTrans', 'start_time', 'end_time', 'gd_prtn_chrg', 'run_start', 'run_title', 'file_notes', 'run_number', 'experiment_identifier', 'duration', 'Filename']\n"
       ]
      }
     ],
     "prompt_number": 82
    },
    {
     "cell_type": "markdown",
     "metadata": {},
     "source": [
      "**To get a particular log, use the `.value` function**"
     ]
    },
    {
     "cell_type": "code",
     "collapsed": false,
     "input": [
      "print run['Filename'].value\n",
      "print run['Phase1'].value"
     ],
     "language": "python",
     "metadata": {},
     "outputs": [
      {
       "output_type": "stream",
       "stream": "stdout",
       "text": [
        "/SNS/users/shared/MantidTrainingCourseData/CNCS_7860_event.nxs\n",
        "[ 8798.984375    8798.98828125  8798.99609375  8798.99316406  8798.98730469\n",
        "  8798.99707031  8798.99316406  8798.98242188  8798.98632812  8799.00390625\n",
        "  8799.00292969  8798.98242188  8798.98535156  8798.984375    8798.97851562\n",
        "  8798.97265625  8798.97558594  8798.97363281  8798.9765625   8798.97460938\n",
        "  8798.98242188  8798.984375    8798.9921875   8798.98242188  8798.99707031\n",
        "  8798.98339844  8798.97949219  8798.98632812  8798.98828125  8798.99316406\n",
        "  8798.99804688  8799.00097656  8798.98632812  8798.98535156  8798.99023438\n",
        "  8798.99121094  8799.00292969  8799.01464844  8799.0078125   8799.00097656\n",
        "  8798.98925781  8798.99707031  8798.9921875   8798.99121094  8798.98144531\n",
        "  8798.97851562]\n"
       ]
      }
     ],
     "prompt_number": 83
    },
    {
     "cell_type": "markdown",
     "metadata": {},
     "source": [
      "**For time series logs, one can also get the times, or statistics about the log**"
     ]
    },
    {
     "cell_type": "code",
     "collapsed": false,
     "input": [
      "print run['Phase1'].times"
     ],
     "language": "python",
     "metadata": {},
     "outputs": [
      {
       "output_type": "stream",
       "stream": "stdout",
       "text": [
        "[2010-Mar-25 16:09:27.780000000,2010-Mar-25 16:09:30.108000068,2010-Mar-25 16:09:32.014000205,2010-Mar-25 16:09:34.733000068,2010-Mar-25 16:09:37.655000000,2010-Mar-25 16:09:42.780000000,2010-Mar-25 16:09:45.405000000,2010-Mar-25 16:09:48.107999114,2010-Mar-25 16:09:51.138999252,2010-Mar-25 16:09:54.155000000,2010-Mar-25 16:09:57.169999389,2010-Mar-25 16:10:00.185998229,2010-Mar-25 16:10:03.202000885,2010-Mar-25 16:10:06.122998504,2010-Mar-25 16:10:09.747998504,2010-Mar-25 16:10:12.357999114,2010-Mar-25 16:10:15.169999389,2010-Mar-25 16:10:21.905000000,2010-Mar-25 16:10:24.122998504,2010-Mar-25 16:10:27.139001159,2010-Mar-25 16:10:30.155000000,2010-Mar-25 16:10:33.169999389,2010-Mar-25 16:10:36.591996459,2010-Mar-25 16:10:39.216996459,2010-Mar-25 16:10:42.123002319,2010-Mar-25 16:10:45.139001159,2010-Mar-25 16:10:48.169999389,2010-Mar-25 16:10:52.794999389,2010-Mar-25 16:10:54.201997070,2010-Mar-25 16:11:01.639001159,2010-Mar-25 16:11:04.655000000,2010-Mar-25 16:11:07.669999389,2010-Mar-25 16:11:10.701997070,2010-Mar-25 16:11:17.030000000,2010-Mar-25 16:11:19.748002319,2010-Mar-25 16:11:22.669999389,2010-Mar-25 16:11:25.685998229,2010-Mar-25 16:11:31.810998229,2010-Mar-25 16:11:34.639001159,2010-Mar-25 16:11:37.655000000,2010-Mar-25 16:11:41.169999389,2010-Mar-25 16:11:43.794999389,2010-Mar-25 16:11:46.701997070,2010-Mar-25 16:11:49.623002319,2010-Mar-25 16:11:52.498002319,2010-Mar-25 16:11:55.655000000]\n"
       ]
      }
     ],
     "prompt_number": 84
    },
    {
     "cell_type": "code",
     "collapsed": false,
     "input": [
      "print run['Phase1'].getStatistics().minimum\n",
      "print run['Phase1'].getStatistics().mean\n",
      "print run['Phase1'].timeAverageValue()"
     ],
     "language": "python",
     "metadata": {},
     "outputs": [
      {
       "output_type": "stream",
       "stream": "stdout",
       "text": [
        "8798.97265625\n",
        "8798.98904552\n",
        "8798.98910967\n"
       ]
      }
     ],
     "prompt_number": 85
    },
    {
     "cell_type": "markdown",
     "metadata": {},
     "source": [
      "**To get the time in seconds from the beginning of the run, use something like this:**"
     ]
    },
    {
     "cell_type": "code",
     "collapsed": false,
     "input": [
      "phase1=w.getRun()['Phase1']\n",
      "times=[]\n",
      "for t in phase1.times:\n",
      "    times.append((t-phase1.times[0]).total_seconds())\n",
      "print times"
     ],
     "language": "python",
     "metadata": {},
     "outputs": [
      {
       "output_type": "stream",
       "stream": "stdout",
       "text": [
        "[0, 2, 4, 6, 9, 15, 17, 20, 23, 26, 29, 32, 35, 38, 41, 44, 47, 54, 56, 59, 62, 65, 68, 71, 74, 77, 80, 85, 86, 93, 96, 99, 102, 109, 111, 114, 117, 124, 126, 129, 133, 136, 138, 141, 144, 147]\n"
       ]
      }
     ],
     "prompt_number": 86
    },
    {
     "cell_type": "markdown",
     "metadata": {},
     "source": [
      "- **Getting information about the instrument**\n",
      "\n",
      "**The instrument handle is given by the getInstrument() function. The Instrument object has several components. You can get the number of components using the nelements function. To get the type of a component, just use the type function. Any ComponentAssembly objects have the nelements function. Detectors have the type `mantid.geometry._geometry.Detector`**\n",
      "\n",
      "**All instruments/components have a `getName()` function**"
     ]
    },
    {
     "cell_type": "code",
     "collapsed": false,
     "input": [
      "inst=w.getInstrument()\n",
      "print inst.getName(),\" has \",inst.nelements(), \" components\"\n",
      "for i in range(inst.nelements()):\n",
      "    print inst[i].getName(), type(inst[i])"
     ],
     "language": "python",
     "metadata": {},
     "outputs": [
      {
       "output_type": "stream",
       "stream": "stdout",
       "text": [
        "CNCS  has  4  components\n",
        "moderator <class 'mantid.geometry._geometry.ObjComponent'>\n",
        "sample-position <class 'mantid.geometry._geometry.ObjComponent'>\n",
        "monitors <class 'mantid.geometry._geometry.CompAssembly'>\n",
        "detectors <class 'mantid.geometry._geometry.CompAssembly'>\n"
       ]
      }
     ],
     "prompt_number": 87
    },
    {
     "cell_type": "code",
     "collapsed": false,
     "input": [
      "print inst[3][0].getName()\n",
      "print inst[3][0][0].getName()\n",
      "print inst[3][0][0][0].getName()\n",
      "print inst[3][0][0][0][0].getName()"
     ],
     "language": "python",
     "metadata": {},
     "outputs": [
      {
       "output_type": "stream",
       "stream": "stdout",
       "text": [
        "bank1\n",
        "eightpack\n",
        "tube1\n",
        "pixel1\n"
       ]
      }
     ],
     "prompt_number": 88
    },
    {
     "cell_type": "markdown",
     "metadata": {},
     "source": [
      "**For any instrument component one can get the position. For detectors one might be interested in getting the theta and phi angles, or the detector number**"
     ]
    },
    {
     "cell_type": "code",
     "collapsed": false,
     "input": [
      "from mantid.kernel import V3D\n",
      "det=inst[3][0][0][0][0]\n",
      "print det.getPos()\n",
      "print det.getID()\n",
      "print det.getTwoTheta(V3D(0,0,0),V3D(0,0,1)) #this value is in radians"
     ],
     "language": "python",
     "metadata": {},
     "outputs": [
      {
       "output_type": "stream",
       "stream": "stdout",
       "text": [
        "[2.57229,-0.992187,-2.3661]\n",
        "0\n",
        "2.28003974119\n"
       ]
      }
     ],
     "prompt_number": 89
    },
    {
     "cell_type": "markdown",
     "metadata": {},
     "source": [
      "***Exercise 8:***\n",
      "\n",
      "***Part A: from the previous exercise, get the handles to the workspaces using mtd.importAll(). Get the number of bins in the first workspace. Get the first spectrum data, and find out the maximum value, and the position of this value. Remember that the x axis contains bin boundaries. Plot the spectra from all workspaces in a single figure, with log scaling for y axis. Append the arrays for the x and y coordinates for each workspace, and create a new workspace, with 4 spectra. Use the CreateWorkspace algorithm. Use the return value of the CreateWorkspace algorithm as the handle for the new workspace. Change the X coordinate of spectra index 2 by adding 1000 to it. Save this workspace to a nexus file, and open it in MantidPlot. Plot all spectra.***\n",
      "\n",
      "***Part B: Find out where is the moderator for SEQUOIA instrument. Print all component names and types for the childrens of the instrument. Write a script to find out how many banks are in each row. Get the detector in bankB1, tube1, pixel1, and print detector ID and theta (in degrees)***\n",
      "\n",
      "***Part C: for the last file, extract and plot Phase2 log value, as a function of time, and get statistics about minimum, maximum, average, and time average***"
     ]
    },
    {
     "cell_type": "heading",
     "level": 1,
     "metadata": {},
     "source": [
      "Information about mantid modules:"
     ]
    },
    {
     "cell_type": "heading",
     "level": 2,
     "metadata": {},
     "source": [
      "http://docs.mantidproject.org/nightly/api/python/mantid/index.html"
     ]
    },
    {
     "cell_type": "markdown",
     "metadata": {},
     "source": [
      "- **mantid.kernel contains V3D and VMD objects, validators and properties for writing algorithms, and the logger object**\n",
      "\n",
      "- **mantid.geometry contains all instrument component objects, the goniometer, sample unit cell and orientation**\n",
      "\n",
      "- **mantid.api includes all workspace objects, the run object, the sample object, and algorithms as objects(not individual algorithms)**\n",
      "\n",
      "- **mantid.simpleapi is made up of all algorithms**"
     ]
    },
    {
     "cell_type": "heading",
     "level": 1,
     "metadata": {},
     "source": [
      "Fitting"
     ]
    },
    {
     "cell_type": "markdown",
     "metadata": {},
     "source": [
      "**For fitting in mantid, you can generate a history from a fit in MantidPlot. All the fitting is done using the Fit algorithm. http://docs.mantidproject.org/nightly/algorithms/Fit-v1.html The help page explains how to set up a fitting function, including, ties and constraints.**"
     ]
    },
    {
     "cell_type": "markdown",
     "metadata": {},
     "source": [
      "***Exercise 9: Load the GEM63437_focussed.nxs file. Note that the output is a workspace group. get the handle to the second entry. Fit with three Lorentzians plus a linear background. All the widths have to be the same, so tie widths of the second and third Lorentzians to the first. Get the handle to the parameters workspace. You can get the column/row count with the *`columnCount()/rowCount()`* functions. To read an individuall cell, use the *`cell(row, col)`* function. Print the ratio of the peak center positions (center2/center1 and center3/center1)***"
     ]
    },
    {
     "cell_type": "code",
     "collapsed": false,
     "input": [],
     "language": "python",
     "metadata": {},
     "outputs": [],
     "prompt_number": 89
    }
   ],
   "metadata": {}
  }
 ]
}