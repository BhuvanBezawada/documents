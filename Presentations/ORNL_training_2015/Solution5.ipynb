{
 "metadata": {
  "name": "",
  "signature": "sha256:fbc6d4c4298c8ed1ddbd3afef1880e040ee7ece6e1e2364e92021c64a8cb1bca"
 },
 "nbformat": 3,
 "nbformat_minor": 0,
 "worksheets": [
  {
   "cells": [
    {
     "cell_type": "code",
     "collapsed": false,
     "input": [
      "%matplotlib inline"
     ],
     "language": "python",
     "metadata": {},
     "outputs": [],
     "prompt_number": 1
    },
    {
     "cell_type": "code",
     "collapsed": false,
     "input": [
      "import numpy as np\n",
      "import matplotlib.pyplot as plt\n",
      "\n",
      "def fibfunc(n=20,show_ratio=False):\n",
      "    fib=[]\n",
      "    ratio=[]\n",
      "    if n>0:\n",
      "        fib.append(0)\n",
      "    if n>1:\n",
      "        fib.append(1)\n",
      "    if n>2:\n",
      "        for i in range(2,n):\n",
      "            fib.append(fib[i-1]+fib[i-2])\n",
      "            ratio.append(float(fib[i])/float(fib[i-1]))\n",
      "    if not show_ratio:\n",
      "        return fib\n",
      "    else:\n",
      "        return fib,ratio\n",
      "\n",
      "f,r=fibfunc(show_ratio=True)\n",
      "x=np.arange(len(r))+2\n",
      "plt.plot(x,r,'rs')\n",
      "x1=np.array([0,20.])\n",
      "y=0*x1+(1+np.sqrt(5.))/2.\n",
      "plt.plot(x1,y,'b-')\n",
      "plt.xlabel('index')\n",
      "plt.ylabel('ratio')"
     ],
     "language": "python",
     "metadata": {},
     "outputs": [
      {
       "metadata": {},
       "output_type": "pyout",
       "prompt_number": 2,
       "text": [
        "<matplotlib.text.Text at 0x7f81a25612d0>"
       ]
      },
      {
       "metadata": {},
       "output_type": "display_data",
       "png": "[encoded data removed]",
       "text": [
        "<matplotlib.figure.Figure at 0x7f81a25a9e90>"
       ]
      }
     ],
     "prompt_number": 2
    },
    {
     "cell_type": "code",
     "collapsed": false,
     "input": [],
     "language": "python",
     "metadata": {},
     "outputs": [],
     "prompt_number": 2
    }
   ],
   "metadata": {}
  }
 ]
}