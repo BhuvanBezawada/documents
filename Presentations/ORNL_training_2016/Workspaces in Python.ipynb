{
 "metadata": {
  "name": "",
  "signature": "sha256:7416e9f01ee724ba90b0ef8009fd74ac12d1c7c4f0976d95d3105a29181b227c"
 },
 "nbformat": 3,
 "nbformat_minor": 0,
 "worksheets": [
  {
   "cells": [
    {
     "cell_type": "heading",
     "level": 1,
     "metadata": {},
     "source": [
      "Manipulating workspaces in python"
     ]
    },
    {
     "cell_type": "heading",
     "level": 2,
     "metadata": {},
     "source": [
      "Workspace handles"
     ]
    },
    {
     "cell_type": "markdown",
     "metadata": {},
     "source": [
      "In the previous section we have seen a few ways to load a file:"
     ]
    },
    {
     "cell_type": "code",
     "collapsed": false,
     "input": [
      "from mantid.simpleapi import *\n",
      "Load(\"CNCS_7860\",OutputWorkspace=\"CNCS_7860\")\n",
      "w=Load(\"HYS_11388\")"
     ],
     "language": "python",
     "metadata": {},
     "outputs": [],
     "prompt_number": 1
    },
    {
     "cell_type": "markdown",
     "metadata": {},
     "source": [
      "To get the names of all workspaces we can run `mtd.getObjectNames()` command"
     ]
    },
    {
     "cell_type": "code",
     "collapsed": false,
     "input": [
      "mtd.getObjectNames()"
     ],
     "language": "python",
     "metadata": {},
     "outputs": [
      {
       "metadata": {},
       "output_type": "pyout",
       "prompt_number": 2,
       "text": [
        "['w', 'CNCS_7860']"
       ]
      }
     ],
     "prompt_number": 2
    },
    {
     "cell_type": "markdown",
     "metadata": {},
     "source": [
      "But now we can access `w` as a python object, while we cannot access `CNCS_7860`. That is because `CNCS_7860` is just a name of the workspace, while `w` is both a name of a workspace **and** a python object called a `handle` to the workspace.\n",
      "\n",
      "Is the `CNCS_7860` workspace still accessible in python? Yes. We can get a handle to that object in two ways:"
     ]
    },
    {
     "cell_type": "code",
     "collapsed": false,
     "input": [
      "#1 get the individual handle\n",
      "w1=mtd['CNCS_7860']\n",
      "print w1, type(w1)"
     ],
     "language": "python",
     "metadata": {},
     "outputs": [
      {
       "output_type": "stream",
       "stream": "stdout",
       "text": [
        "CNCS_7860 <class 'mantid.dataobjects._dataobjects.EventWorkspace'>\n"
       ]
      }
     ],
     "prompt_number": 3
    },
    {
     "cell_type": "code",
     "collapsed": false,
     "input": [
      "#2 get handles to all workspaces\n",
      "mtd.importAll()\n",
      "print CNCS_7860,type(CNCS_7860)"
     ],
     "language": "python",
     "metadata": {},
     "outputs": [
      {
       "output_type": "stream",
       "stream": "stdout",
       "text": [
        "CNCS_7860 <class 'mantid.dataobjects._dataobjects.EventWorkspace'>\n"
       ]
      }
     ],
     "prompt_number": 4
    },
    {
     "cell_type": "markdown",
     "metadata": {},
     "source": [
      "We already looked at how to get the name and the type of a workspace. Other useful functions are:"
     ]
    },
    {
     "cell_type": "code",
     "collapsed": false,
     "input": [
      "print \"Title=\",w.getTitle()\n",
      "print \"Comment=\",w.getComment()\n",
      "print \"Size=\",w.getMemorySize()"
     ],
     "language": "python",
     "metadata": {},
     "outputs": [
      {
       "output_type": "stream",
       "stream": "stdout",
       "text": [
        "Title= tour run\n",
        "Comment= \n",
        "Size= 77512528\n"
       ]
      }
     ],
     "prompt_number": 5
    },
    {
     "cell_type": "heading",
     "level": 2,
     "metadata": {},
     "source": [
      "Workspace arithmetic"
     ]
    },
    {
     "cell_type": "markdown",
     "metadata": {},
     "source": [
      "MatrixWorkspaces can have algebraic operations applied to them directly without the need to call a specific algorithm, e.g. Plus\n",
      "\n",
      "The expected operations of +,-,*,/ are supported with either a single number or another workspace as the second argument, e.g.\n",
      "\n",
      "    w1 = mtd['workspace1']\n",
      "    w2 = mtd['workspace2']\n",
      " \n",
      "    # Sum the two workspaces and place the output into a third\n",
      "    w3 = w1 + w2\n",
      " \n",
      "    # Multiply the new workspace by 2 and place the output into a new workspace\n",
      "    w4 = w3 * 2\n",
      "\n",
      "\n",
      "It is also possible to replace one of the input workspaces using one of +=,-=,*=,/= e.g.\n",
      "\n",
      "    # Multiply a workspace by 2 and replace w1 with the output\n",
      "    w1 *= 2.0\n",
      " \n",
      "    # Add 'workspace2' to 'workspace1' and replace 'workspace1' with the output\n",
      "    w1 += w2\n",
      "\n",
      "\n"
     ]
    },
    {
     "cell_type": "heading",
     "level": 2,
     "metadata": {},
     "source": [
      "Workspace functions"
     ]
    },
    {
     "cell_type": "markdown",
     "metadata": {},
     "source": [
      "Depending on the workspace type, other functions are available\n",
      "\n",
      "**Matrix workspaces**\n",
      "\n"
     ]
    },
    {
     "cell_type": "code",
     "collapsed": false,
     "input": [
      "print \"Number of bins before\", CNCS_7860.blocksize()\n",
      "CNCS_7860=Rebin(CNCS_7860,Params=\"20\",PreserveEvents=True)\n",
      "print \"Number of bins after\", CNCS_7860.blocksize()"
     ],
     "language": "python",
     "metadata": {},
     "outputs": [
      {
       "output_type": "stream",
       "stream": "stdout",
       "text": [
        "Number of bins before 1\n",
        "Number of bins after 834\n"
       ]
      }
     ],
     "prompt_number": 6
    },
    {
     "cell_type": "code",
     "collapsed": false,
     "input": [
      "print \"Number of spectra\", CNCS_7860.getNumberHistograms()"
     ],
     "language": "python",
     "metadata": {},
     "outputs": [
      {
       "output_type": "stream",
       "stream": "stdout",
       "text": [
        "Number of spectra 51200\n"
       ]
      }
     ],
     "prompt_number": 7
    },
    {
     "cell_type": "code",
     "collapsed": false,
     "input": [
      "print CNCS_7860.getNumberEvents()"
     ],
     "language": "python",
     "metadata": {},
     "outputs": [
      {
       "output_type": "stream",
       "stream": "stdout",
       "text": [
        "112266\n"
       ]
      }
     ],
     "prompt_number": 8
    },
    {
     "cell_type": "code",
     "collapsed": false,
     "input": [
      "event_list=CNCS_7860.getEventList(5000)\n",
      "print event_list.getEventType()\n",
      "CNCS_7860=NormaliseByCurrent(CNCS_7860)\n",
      "event_list=CNCS_7860.getEventList(36666)\n",
      "print event_list.getEventType()\n",
      "print event_list.getTofs()\n",
      "print event_list.getWeights()\n",
      "print event_list.getWeightErrors()"
     ],
     "language": "python",
     "metadata": {},
     "outputs": [
      {
       "output_type": "stream",
       "stream": "stdout",
       "text": [
        "TOF\n",
        "WEIGHTED\n",
        "[ 52521.19921875  52535.          52526.5         52542.19921875\n",
        "  52562.6015625   52526.30078125  52552.80078125  52554.19921875\n",
        "  52543.19921875  52553.8984375   52546.6015625   52547.69921875  52554.5\n",
        "  52532.          52515.69921875  52569.80078125  52555.6015625\n",
        "  52528.19921875  52538.30078125  52543.19921875  52548.30078125\n",
        "  52544.8984375   52541.19921875  52541.1015625   52551.30078125  52573.5\n",
        "  52554.          52537.6015625   52559.5         52551.6015625\n",
        "  52544.6015625   52529.3984375   52556.5         52540.5         52557.8984375\n",
        "  52560.19921875  52561.80078125  52531.30078125  52547.30078125  52531.5\n",
        "  52554.8984375   52549.1015625   52527.80078125  52555.5         52557.\n",
        "  52568.6015625   52556.30078125  52536.1015625   52568.5         52546.6015625\n",
        "  52560.30078125  52550.          52560.69921875  52572.5         52535.30078125\n",
        "  52520.69921875  52535.6015625   52544.8984375   52571.5         52556.19921875\n",
        "  52544.3984375   52529.80078125  52547.5         52532.          52552.6015625\n",
        "  52553.5       ]\n",
        "[ 0.03779437  0.03779437  0.03779437  0.03779437  0.03779437  0.03779437\n",
        "  0.03779437  0.03779437  0.03779437  0.03779437  0.03779437  0.03779437\n",
        "  0.03779437  0.03779437  0.03779437  0.03779437  0.03779437  0.03779437\n",
        "  0.03779437  0.03779437  0.03779437  0.03779437  0.03779437  0.03779437\n",
        "  0.03779437  0.03779437  0.03779437  0.03779437  0.03779437  0.03779437\n",
        "  0.03779437  0.03779437  0.03779437  0.03779437  0.03779437  0.03779437\n",
        "  0.03779437  0.03779437  0.03779437  0.03779437  0.03779437  0.03779437\n",
        "  0.03779437  0.03779437  0.03779437  0.03779437  0.03779437  0.03779437\n",
        "  0.03779437  0.03779437  0.03779437  0.03779437  0.03779437  0.03779437\n",
        "  0.03779437  0.03779437  0.03779437  0.03779437  0.03779437  0.03779437\n",
        "  0.03779437  0.03779437  0.03779437  0.03779437  0.03779437  0.03779437]\n",
        "[ 0.03779437  0.03779437  0.03779437  0.03779437  0.03779437  0.03779437\n",
        "  0.03779437  0.03779437  0.03779437  0.03779437  0.03779437  0.03779437\n",
        "  0.03779437  0.03779437  0.03779437  0.03779437  0.03779437  0.03779437\n",
        "  0.03779437  0.03779437  0.03779437  0.03779437  0.03779437  0.03779437\n",
        "  0.03779437  0.03779437  0.03779437  0.03779437  0.03779437  0.03779437\n",
        "  0.03779437  0.03779437  0.03779437  0.03779437  0.03779437  0.03779437\n",
        "  0.03779437  0.03779437  0.03779437  0.03779437  0.03779437  0.03779437\n",
        "  0.03779437  0.03779437  0.03779437  0.03779437  0.03779437  0.03779437\n",
        "  0.03779437  0.03779437  0.03779437  0.03779437  0.03779437  0.03779437\n",
        "  0.03779437  0.03779437  0.03779437  0.03779437  0.03779437  0.03779437\n",
        "  0.03779437  0.03779437  0.03779437  0.03779437  0.03779437  0.03779437]\n"
       ]
      }
     ],
     "prompt_number": 9
    },
    {
     "cell_type": "code",
     "collapsed": false,
     "input": [
      "spectrum=CNCS_7860.getSpectrum(36666)"
     ],
     "language": "python",
     "metadata": {},
     "outputs": [],
     "prompt_number": 10
    },
    {
     "cell_type": "code",
     "collapsed": false,
     "input": [
      "print spectrum.getDetectorIDs()"
     ],
     "language": "python",
     "metadata": {},
     "outputs": [
      {
       "output_type": "stream",
       "stream": "stdout",
       "text": [
        "set(36666)\n"
       ]
      }
     ],
     "prompt_number": 11
    },
    {
     "cell_type": "code",
     "collapsed": false,
     "input": [
      "summed=SumSpectra(CNCS_7860,StartWorkspaceIndex=3000,EndWorkspaceIndex=3200)\n",
      "print summed.getSpectrum(0).getDetectorIDs()"
     ],
     "language": "python",
     "metadata": {},
     "outputs": [
      {
       "output_type": "stream",
       "stream": "stdout",
       "text": [
        "set(3000,3001,3002,3003,3004,3005,3006,3007,3008,3009,3010,3011,3012,3013,3014,3015,3016,3017,3018,3019,3020,3021,3022,3023,3024,3025,3026,3027,3028,3029,3030,3031,3032,3033,3034,3035,3036,3037,3038,3039,3040,3041,3042,3043,3044,3045,3046,3047,3048,3049,3050,3051,3052,3053,3054,3055,3056,3057,3058,3059,3060,3061,3062,3063,3064,3065,3066,3067,3068,3069,3070,3071,3072,3073,3074,3075,3076,3077,3078,3079,3080,3081,3082,3083,3084,3085,3086,3087,3088,3089,3090,3091,3092,3093,3094,3095,3096,3097,3098,3099,3100,3101,3102,3103,3104,3105,3106,3107,3108,3109,3110,3111,3112,3113,3114,3115,3116,3117,3118,3119,3120,3121,3122,3123,3124,3125,3126,3127,3128,3129,3130,3131,3132,3133,3134,3135,3136,3137,3138,3139,3140,3141,3142,3143,3144,3145,3146,3147,3148,3149,3150,3151,3152,3153,3154,3155,3156,3157,3158,3159,3160,3161,3162,3163,3164,3165,3166,3167,3168,3169,3170,3171,3172,3173,3174,3175,3176,3177,3178,3179,3180,3181,3182,3183,3184,3185,3186,3187,3188,3189,3190,3191,3192,3193,3194,3195,3196,3197,3198,3199,3200)\n"
       ]
      }
     ],
     "prompt_number": 12
    },
    {
     "cell_type": "code",
     "collapsed": false,
     "input": [
      "CNCS_7860.maskDetectors(DetectorList=\"1,2,3\")\n",
      "for i in range(6):\n",
      "    print \"Detector for workspace index \",i, \" is masked :\",CNCS_7860.getDetector(i).isMasked()"
     ],
     "language": "python",
     "metadata": {},
     "outputs": [
      {
       "output_type": "stream",
       "stream": "stdout",
       "text": [
        "Detector for workspace index  0  is masked : False\n",
        "Detector for workspace index  1  is masked : True\n",
        "Detector for workspace index  2  is masked : True\n",
        "Detector for workspace index  3  is masked : True\n",
        "Detector for workspace index  4  is masked : False\n",
        "Detector for workspace index  5  is masked : False\n"
       ]
      }
     ],
     "prompt_number": 13
    },
    {
     "cell_type": "markdown",
     "metadata": {},
     "source": [
      "**Axes and units**"
     ]
    },
    {
     "cell_type": "code",
     "collapsed": false,
     "input": [
      "axis0=CNCS_7860.getAxis(0)\n",
      "axis1=CNCS_7860.getAxis(1)\n",
      "print \"Is axis0 spectra? \",axis0.isSpectra()\n",
      "print \"Is axis1 spectra? \",axis1.isSpectra()\n",
      "unitX=axis0.getUnit()\n",
      "print unitX.symbol()\n",
      "print unitX.caption()\n",
      "print unitX.unitID()\n",
      "#some unit symbols have latex representation:\n",
      "print unitX.symbol().latex()\n",
      "print axis1.getMax()\n",
      "print axis0.getMax()"
     ],
     "language": "python",
     "metadata": {},
     "outputs": [
      {
       "output_type": "stream",
       "stream": "stdout",
       "text": [
        "Is axis0 spectra?  False\n",
        "Is axis1 spectra?  True\n",
        "microsecond\n",
        "Time-of-flight\n",
        "TOF\n",
        "\\mu s\n",
        "51200.0\n"
       ]
      },
      {
       "ename": "RuntimeError",
       "evalue": "RefAxis cannot determine maximum value. Use readX on the workspace instead",
       "output_type": "pyerr",
       "traceback": [
        "\u001b[1;31m---------------------------------------------------------------------------\u001b[0m\n\u001b[1;31mRuntimeError\u001b[0m                              Traceback (most recent call last)",
        "\u001b[1;32m<ipython-input-14-3b2f7b032c3a>\u001b[0m in \u001b[0;36m<module>\u001b[1;34m()\u001b[0m\n\u001b[0;32m     10\u001b[0m \u001b[1;32mprint\u001b[0m \u001b[0munitX\u001b[0m\u001b[1;33m.\u001b[0m\u001b[0msymbol\u001b[0m\u001b[1;33m(\u001b[0m\u001b[1;33m)\u001b[0m\u001b[1;33m.\u001b[0m\u001b[0mlatex\u001b[0m\u001b[1;33m(\u001b[0m\u001b[1;33m)\u001b[0m\u001b[1;33m\u001b[0m\u001b[0m\n\u001b[0;32m     11\u001b[0m \u001b[1;32mprint\u001b[0m \u001b[0maxis1\u001b[0m\u001b[1;33m.\u001b[0m\u001b[0mgetMax\u001b[0m\u001b[1;33m(\u001b[0m\u001b[1;33m)\u001b[0m\u001b[1;33m\u001b[0m\u001b[0m\n\u001b[1;32m---> 12\u001b[1;33m \u001b[1;32mprint\u001b[0m \u001b[0maxis0\u001b[0m\u001b[1;33m.\u001b[0m\u001b[0mgetMax\u001b[0m\u001b[1;33m(\u001b[0m\u001b[1;33m)\u001b[0m\u001b[1;33m\u001b[0m\u001b[0m\n\u001b[0m",
        "\u001b[1;31mRuntimeError\u001b[0m: RefAxis cannot determine maximum value. Use readX on the workspace instead"
       ]
      }
     ],
     "prompt_number": 14
    },
    {
     "cell_type": "markdown",
     "metadata": {},
     "source": [
      "**Peaks workspaces / Table Workspaces**"
     ]
    },
    {
     "cell_type": "code",
     "collapsed": false,
     "input": [
      "peaksWS=Load(\"peaks_qLab.nxs\")"
     ],
     "language": "python",
     "metadata": {},
     "outputs": [],
     "prompt_number": 15
    },
    {
     "cell_type": "code",
     "collapsed": false,
     "input": [
      "peaksWS.getInstrument().getName()"
     ],
     "language": "python",
     "metadata": {},
     "outputs": [
      {
       "metadata": {},
       "output_type": "pyout",
       "prompt_number": 16,
       "text": [
        "'SXD'"
       ]
      }
     ],
     "prompt_number": 16
    },
    {
     "cell_type": "code",
     "collapsed": false,
     "input": [
      "peaksWS.getNumberPeaks()"
     ],
     "language": "python",
     "metadata": {},
     "outputs": [
      {
       "metadata": {},
       "output_type": "pyout",
       "prompt_number": 17,
       "text": [
        "200"
       ]
      }
     ],
     "prompt_number": 17
    },
    {
     "cell_type": "code",
     "collapsed": false,
     "input": [
      "peak0=peaksWS.getPeak(0)\n",
      "print peak0.getHKL()\n",
      "print peak0.getDSpacing()\n",
      "print peak0.getQLabFrame()"
     ],
     "language": "python",
     "metadata": {},
     "outputs": [
      {
       "output_type": "stream",
       "stream": "stdout",
       "text": [
        "[0,0,0]\n",
        "0.782047434455\n",
        "[-2.44331,-1.07146,7.57838]\n"
       ]
      }
     ],
     "prompt_number": 18
    },
    {
     "cell_type": "markdown",
     "metadata": {},
     "source": [
      "The following apply to table workspaces as well:"
     ]
    },
    {
     "cell_type": "code",
     "collapsed": false,
     "input": [
      "peaksWS.getColumnNames()"
     ],
     "language": "python",
     "metadata": {},
     "outputs": [
      {
       "metadata": {},
       "output_type": "pyout",
       "prompt_number": 19,
       "text": [
        "['RunNumber',\n",
        " 'DetID',\n",
        " 'h',\n",
        " 'k',\n",
        " 'l',\n",
        " 'Wavelength',\n",
        " 'Energy',\n",
        " 'TOF',\n",
        " 'DSpacing',\n",
        " 'Intens',\n",
        " 'SigInt',\n",
        " 'BinCount',\n",
        " 'BankName',\n",
        " 'Row',\n",
        " 'Col',\n",
        " 'QLab',\n",
        " 'QSample']"
       ]
      }
     ],
     "prompt_number": 19
    },
    {
     "cell_type": "code",
     "collapsed": false,
     "input": [
      "peaksWS.cell(0,8)"
     ],
     "language": "python",
     "metadata": {},
     "outputs": [
      {
       "metadata": {},
       "output_type": "pyout",
       "prompt_number": 20,
       "text": [
        "0.7820474344547197"
       ]
      }
     ],
     "prompt_number": 20
    },
    {
     "cell_type": "code",
     "collapsed": false,
     "input": [
      "peaksWS.column('QLab')[0:3]"
     ],
     "language": "python",
     "metadata": {},
     "outputs": [
      {
       "metadata": {},
       "output_type": "pyout",
       "prompt_number": 21,
       "text": [
        "[[-2.44331,-1.07146,7.57838],\n",
        " [-1.32639,1.58567,8.96079],\n",
        " [-1.24151,-0.11894,4.84117]]"
       ]
      }
     ],
     "prompt_number": 21
    },
    {
     "cell_type": "code",
     "collapsed": false,
     "input": [
      "peaksWS.row(0)"
     ],
     "language": "python",
     "metadata": {},
     "outputs": [
      {
       "metadata": {},
       "output_type": "pyout",
       "prompt_number": 22,
       "text": [
        "{'BankName': 'bank1',\n",
        " 'BinCount': 39.0,\n",
        " 'Col': 31.0,\n",
        " 'DSpacing': 0.7820474344547197,\n",
        " 'DetID': 2036,\n",
        " 'Energy': 37.58292230763805,\n",
        " 'Intens': 3074.227107208124,\n",
        " 'QLab': [-2.44331,-1.07146,7.57838],\n",
        " 'QSample': [-2.44331,-1.07146,7.57838],\n",
        " 'Row': 51.0,\n",
        " 'RunNumber': 23767,\n",
        " 'SigInt': 24.830337332355946,\n",
        " 'TOF': 3182.0723475896593,\n",
        " 'Wavelength': 1.4753414170018557,\n",
        " 'h': 0.0,\n",
        " 'k': 0.0,\n",
        " 'l': 0.0}"
       ]
      }
     ],
     "prompt_number": 22
    },
    {
     "cell_type": "markdown",
     "metadata": {},
     "source": [
      "**MDWorkspaces**"
     ]
    },
    {
     "cell_type": "code",
     "collapsed": false,
     "input": [
      "ws = Load(Filename='CNCS_7860_event')\n",
      "AddSampleLog(Workspace=ws,LogName='Ei',LogText='3.0',LogType='Number')\n",
      "SetUB(Workspace=ws,a='1.4165',b='1.4165',c='1.4165',u=[1,0,0],v=[0,1,0])\n",
      "AddSampleLog(Workspace=ws,LogName='Psi',LogText='0.0', LogType='Number')\n",
      "x = ws.getRun().getLogData('Psi')\n",
      "SetGoniometer(Workspace=ws,Axis0='Psi,0,1,0,1')\n",
      "mdws = ConvertToMD(InputWorkspace=ws,   \n",
      "                   QDimensions='Q3D',\n",
      "                   QConversionScales='HKL',\n",
      "                   dEAnalysisMode='Direct',\n",
      "                   MinValues=[-3,-3,-3,-1],\n",
      "                   MaxValues=[3,3,3,3])"
     ],
     "language": "python",
     "metadata": {},
     "outputs": [],
     "prompt_number": 23
    },
    {
     "cell_type": "code",
     "collapsed": false,
     "input": [
      "print \"Number of dimensions: \", mdws.getNumDims()\n",
      "dim0=mdws.getDimension(0)\n",
      "print \"range for dim0: \",dim0.getMinimum(),dim0.getMaximum()\n",
      "print \"dim0 name:\" ,dim0.getName()\n",
      "print \"dim0 units:\", dim0.getUnits()\n",
      "print \"dim0 number of bins at top level:\", dim0.getNBins()"
     ],
     "language": "python",
     "metadata": {},
     "outputs": [
      {
       "output_type": "stream",
       "stream": "stdout",
       "text": [
        "Number of dimensions:  4\n",
        "range for dim0:  -3.0 3.0\n",
        "dim0 name: [H,0,0]\n",
        "dim0 units: in 4.436 A^-1\n",
        "dim0 number of bins at top level: 5\n"
       ]
      }
     ],
     "prompt_number": 24
    },
    {
     "cell_type": "markdown",
     "metadata": {},
     "source": [
      "**Workspace groups**"
     ]
    },
    {
     "cell_type": "code",
     "collapsed": false,
     "input": [
      "wg=Load(\"CNCS_7860,HYS_11388\")"
     ],
     "language": "python",
     "metadata": {},
     "outputs": [],
     "prompt_number": 27
    },
    {
     "cell_type": "code",
     "collapsed": false,
     "input": [
      "wg.getNumberOfEntries()"
     ],
     "language": "python",
     "metadata": {},
     "outputs": [
      {
       "metadata": {},
       "output_type": "pyout",
       "prompt_number": 28,
       "text": [
        "2"
       ]
      }
     ],
     "prompt_number": 28
    },
    {
     "cell_type": "code",
     "collapsed": false,
     "input": [
      "for i in range(wg.getNumberOfEntries()):\n",
      "    print wg[i].getName()"
     ],
     "language": "python",
     "metadata": {},
     "outputs": [
      {
       "output_type": "stream",
       "stream": "stdout",
       "text": [
        "CNCS_7860_event\n",
        "HYS_11388_event\n"
       ]
      }
     ],
     "prompt_number": 29
    },
    {
     "cell_type": "code",
     "collapsed": false,
     "input": [
      "for tempws in wg:\n",
      "    print tempws.getName()"
     ],
     "language": "python",
     "metadata": {},
     "outputs": [
      {
       "output_type": "stream",
       "stream": "stdout",
       "text": [
        "CNCS_7860_event\n",
        "HYS_11388_event\n"
       ]
      }
     ],
     "prompt_number": 30
    },
    {
     "cell_type": "code",
     "collapsed": false,
     "input": [],
     "language": "python",
     "metadata": {},
     "outputs": []
    }
   ],
   "metadata": {}
  }
 ]
}