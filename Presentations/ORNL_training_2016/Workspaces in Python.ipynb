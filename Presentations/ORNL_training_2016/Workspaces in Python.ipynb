{
 "metadata": {
  "name": "",
  "signature": "sha256:36b9b76a4a88333ea5c026537342e1c90ce28a85877ff1e9e504784223def750"
 },
 "nbformat": 3,
 "nbformat_minor": 0,
 "worksheets": [
  {
   "cells": [
    {
     "cell_type": "heading",
     "level": 1,
     "metadata": {},
     "source": [
      "Manipulating workspaces in python"
     ]
    },
    {
     "cell_type": "heading",
     "level": 2,
     "metadata": {},
     "source": [
      "Workspace handles"
     ]
    },
    {
     "cell_type": "markdown",
     "metadata": {},
     "source": [
      "In the previous section we have seen a few ways to load a file:"
     ]
    },
    {
     "cell_type": "code",
     "collapsed": false,
     "input": [
      "from mantid.simpleapi import *\n",
      "Load(\"CNCS_7860\",OutputWorkspace=\"CNCS_7860\")\n",
      "w=Load(\"HYS_11388\")"
     ],
     "language": "python",
     "metadata": {},
     "outputs": [],
     "prompt_number": 10
    },
    {
     "cell_type": "markdown",
     "metadata": {},
     "source": [
      "To get the names of all workspaces we can run `mtd.getObjectNames()` command"
     ]
    },
    {
     "cell_type": "code",
     "collapsed": false,
     "input": [
      "mtd.getObjectNames()"
     ],
     "language": "python",
     "metadata": {},
     "outputs": [
      {
       "metadata": {},
       "output_type": "pyout",
       "prompt_number": 11,
       "text": [
        "['w', 'CNCS_7860']"
       ]
      }
     ],
     "prompt_number": 11
    },
    {
     "cell_type": "markdown",
     "metadata": {},
     "source": [
      "But now we can access `w` as a python object, while we cannot access `CNCS_7860`. That is because `CNCS_7860` is just a name of the workspace, while `w` is both a name of a workspace **and** a python object called a `handle` to the workspace.\n",
      "\n",
      "Is the `CNCS_7860` workspace still accessible in python? Yes. We can get a handle to that object in two ways:"
     ]
    },
    {
     "cell_type": "code",
     "collapsed": false,
     "input": [
      "#1 get the individual handle\n",
      "w1=mtd['CNCS_7860']\n",
      "print w1, type(w1)"
     ],
     "language": "python",
     "metadata": {},
     "outputs": [
      {
       "output_type": "stream",
       "stream": "stdout",
       "text": [
        "CNCS_7860 <class 'mantid.dataobjects._dataobjects.EventWorkspace'>\n"
       ]
      }
     ],
     "prompt_number": 13
    },
    {
     "cell_type": "code",
     "collapsed": false,
     "input": [
      "#2 get handles to all workspaces\n",
      "mtd.importAll()\n",
      "print CNCS_7860,type(CNCS_7860)"
     ],
     "language": "python",
     "metadata": {},
     "outputs": [
      {
       "output_type": "stream",
       "stream": "stdout",
       "text": [
        "CNCS_7860 <class 'mantid.dataobjects._dataobjects.EventWorkspace'>\n"
       ]
      }
     ],
     "prompt_number": 14
    },
    {
     "cell_type": "markdown",
     "metadata": {},
     "source": [
      "We already looked at how to get the name and the type of a workspace. Other useful functions are:"
     ]
    },
    {
     "cell_type": "code",
     "collapsed": false,
     "input": [
      "print \"Title=\",w.getTitle()\n",
      "print \"Comment=\",w.getComment()\n",
      "print \"Size=\",w.getMemorySize()"
     ],
     "language": "python",
     "metadata": {},
     "outputs": [
      {
       "output_type": "stream",
       "stream": "stdout",
       "text": [
        "Title= tour run\n",
        "Comment= \n",
        "Size= 77512528\n"
       ]
      }
     ],
     "prompt_number": 16
    },
    {
     "cell_type": "markdown",
     "metadata": {},
     "source": [
      "Depending on the workspace type, other functions are available"
     ]
    }
   ],
   "metadata": {}
  }
 ]
}