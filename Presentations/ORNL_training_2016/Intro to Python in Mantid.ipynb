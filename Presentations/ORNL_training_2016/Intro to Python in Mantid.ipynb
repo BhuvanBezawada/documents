{
 "metadata": {
  "name": "",
  "signature": "sha256:2b8297b65d6a012f2c2ae5897b305c19b39b8f0d28fa9f96aac2375ba1ba6d4e"
 },
 "nbformat": 3,
 "nbformat_minor": 0,
 "worksheets": [
  {
   "cells": [
    {
     "cell_type": "heading",
     "level": 1,
     "metadata": {},
     "source": [
      "Introduction to Python in Mantid"
     ]
    },
    {
     "cell_type": "markdown",
     "metadata": {},
     "source": [
      "Much of Mantid/MantidPlot can be scripted using Python. There are currently three ways of running Mantid related Python code:\n",
      "\n",
      "* from MantidPlot: `Script window` (View->Script Window) - For writing & executing long multi-line scripts;\n",
      "* from MantidPlot: `Script interpreter` (View->Toggle Script Interpreter) - For executing single-line commands that are run when you press return;\n",
      "* from outside MantidPlot: run a like any regular python script. Note that MantidPlot functionality is not available (plots, instrument views, etc.). Mantid libraries would need to be included in the Python search path, either through PYTHONPATH environment variable, or explicitly in the script.\n",
      "\n",
      "**Scopes**\n",
      "\n",
      "Each of the above 'environments' defines its own scope. What this means is that each environment (including each tab on the script window) is separated when it comes to running code. For example, writing the following code in a tab within the script window\n",
      "\n",
      "    x = 1\n",
      "    print x\n",
      "\n",
      "and executing it in the same tab then it will print \"1\" to the output window. However, opening the script interpreter, typing\n",
      "\n",
      "    print x\n",
      "\n",
      "and pressing return will result in the following error: `NameError: name 'x' is not defined at line 1 in 'New script'`. This is because x is only defined in the place where x=1 was executed.\n",
      "\n",
      "\n"
     ]
    },
    {
     "cell_type": "heading",
     "level": 2,
     "metadata": {},
     "source": [
      "Running algorithms in Mantid"
     ]
    },
    {
     "cell_type": "markdown",
     "metadata": {},
     "source": [
      "All the algorithms in Mantid can be found in the `mantid.simpleapi` library."
     ]
    },
    {
     "cell_type": "code",
     "collapsed": false,
     "input": [
      "from mantid.simpleapi import *"
     ],
     "language": "python",
     "metadata": {},
     "outputs": [],
     "prompt_number": 1
    },
    {
     "cell_type": "markdown",
     "metadata": {},
     "source": [
      "The Mantid library it is in the `bin` folder of your install directory. For tha analysis computers it is `/opt/Mantid/bin`. If you want to run the latest version of the algorithms, the path is `/opt/mantidnightly/bin`. You can either set the `PYTHONPATH` environment variable to point to your desired version, you can run the appropriate `MantidPython`, or you could use the `sys.append` function to put the path in your script. "
     ]
    }
   ],
   "metadata": {}
  }
 ]
}