{
 "metadata": {
  "name": "",
  "signature": "sha256:c816abfb4da1e6ea7e1056ff9dd36b937767671870ef3097a52982e9a23266cf"
 },
 "nbformat": 3,
 "nbformat_minor": 0,
 "worksheets": [
  {
   "cells": [
    {
     "cell_type": "heading",
     "level": 1,
     "metadata": {},
     "source": [
      "Introduction to Python in Mantid"
     ]
    },
    {
     "cell_type": "markdown",
     "metadata": {},
     "source": [
      "Much of Mantid/MantidPlot can be scripted using Python. There are currently three ways of running Mantid related Python code:\n",
      "\n",
      "* from MantidPlot: `Script window` (View->Script Window) - For writing & executing long multi-line scripts;\n",
      "* from MantidPlot: `Script interpreter` (View->Toggle Script Interpreter) - For executing single-line commands that are run when you press return;\n",
      "* from outside MantidPlot: run a like any regular python script. Note that MantidPlot functionality is not available (plots, instrument views, etc.). Mantid libraries would need to be included in the Python search path, either through PYTHONPATH environment variable, or explicitly in the script.\n",
      "\n",
      "**Scopes**\n",
      "\n",
      "Each of the above 'environments' defines its own scope. What this means is that each environment (including each tab on the script window) is separated when it comes to running code. For example, writing the following code in a tab within the script window\n",
      "\n",
      "    x = 1\n",
      "    print x\n",
      "\n",
      "and executing it in the same tab then it will print \"1\" to the output window. However, opening the script interpreter, typing\n",
      "\n",
      "    print x\n",
      "\n",
      "and pressing return will result in the following error: `NameError: name 'x' is not defined at line 1 in 'New script'`. This is because x is only defined in the place where x=1 was executed.\n",
      "\n",
      "\n"
     ]
    },
    {
     "cell_type": "heading",
     "level": 2,
     "metadata": {},
     "source": [
      "Running algorithms in Mantid"
     ]
    },
    {
     "cell_type": "markdown",
     "metadata": {},
     "source": [
      "All the algorithms in Mantid can be found in the `mantid.simpleapi` library."
     ]
    },
    {
     "cell_type": "code",
     "collapsed": false,
     "input": [
      "from mantid.simpleapi import *"
     ],
     "language": "python",
     "metadata": {},
     "outputs": [],
     "prompt_number": 1
    },
    {
     "cell_type": "markdown",
     "metadata": {},
     "source": [
      "The Mantid library it is in the `bin` folder of your install directory. For tha analysis computers it is `/opt/Mantid/bin`. If you want to run the latest version of the algorithms, the path is `/opt/mantidnightly/bin`. You can either set the `PYTHONPATH` environment variable to point to your desired version, you can run the appropriate `MantidPython`, or you could use the `sys.append` function to put the path in your script. "
     ]
    },
    {
     "cell_type": "code",
     "collapsed": false,
     "input": [
      "Load(Filename=\"CNCS_7860\",OutputWorkspace=\"CNCS_7860\")"
     ],
     "language": "python",
     "metadata": {},
     "outputs": [
      {
       "metadata": {},
       "output_type": "pyout",
       "prompt_number": 2,
       "text": [
        "EventWorkspace\n",
        "Title: test after manual intervention\n",
        "Histograms: 51200\n",
        "Bins: 1\n",
        "Histogram\n",
        "X axis: Time-of-flight / microsecond\n",
        "Y axis: Counts\n",
        "Distribution: False\n",
        "Instrument: CNCS (1900-Jan-31 to 2011-Aug-17)\n",
        "Instrument from: C:\\MantidInstall\\instrument\\CNCS_Definition_1-35154.xml\n",
        "Parameters from: C:\\MantidInstall\\instrument\\CNCS_Parameters_1-35154.xml\n",
        "Run start: 2010-Mar-25 16:08:37\n",
        "Run end:  2010-Mar-25 16:11:05\n",
        "\n",
        "Events: 112266"
       ]
      }
     ],
     "prompt_number": 2
    },
    {
     "cell_type": "heading",
     "level": 2,
     "metadata": {},
     "source": [
      "Arguments and keywords"
     ]
    },
    {
     "cell_type": "markdown",
     "metadata": {},
     "source": [
      "Similar to any python function, we can pass simple arguments to an algorithm, or keyword arguments. In the example before, all arguments have keywords. One can ommit the keywords, as long as all the inputs are in order. Once an argument is skipped, we must use keywords. "
     ]
    },
    {
     "cell_type": "code",
     "collapsed": false,
     "input": [
      "ConvertUnits(\"CNCS_7860\", \"dSpacing\",\"Direct\",3,OutputWorkspace=\"CNCS_d\")"
     ],
     "language": "python",
     "metadata": {},
     "outputs": [
      {
       "metadata": {},
       "output_type": "pyout",
       "prompt_number": 3,
       "text": [
        "EventWorkspace\n",
        "Title: test after manual intervention\n",
        "Histograms: 51200\n",
        "Bins: 1\n",
        "Histogram\n",
        "X axis: d-Spacing / Angstrom\n",
        "Y axis: Counts\n",
        "Distribution: False\n",
        "Instrument: CNCS (1900-Jan-31 to 2011-Aug-17)\n",
        "Instrument from: C:\\MantidInstall\\instrument\\CNCS_Definition_1-35154.xml\n",
        "Parameters from: C:\\MantidInstall\\instrument\\CNCS_Parameters_1-35154.xml\n",
        "Run start: 2010-Mar-25 16:08:37\n",
        "Run end:  2010-Mar-25 16:11:05\n",
        "\n",
        "Events: 112266"
       ]
      }
     ],
     "prompt_number": 3
    },
    {
     "cell_type": "code",
     "collapsed": false,
     "input": [
      "ConvertUnits(InputWorkspace=\"CNCS_7860\", Target=\"dSpacing\",EMode=\"Direct\",EFixed=3,OutputWorkspace=\"CNCS_d\")"
     ],
     "language": "python",
     "metadata": {},
     "outputs": [
      {
       "metadata": {},
       "output_type": "pyout",
       "prompt_number": 4,
       "text": [
        "EventWorkspace\n",
        "Title: test after manual intervention\n",
        "Histograms: 51200\n",
        "Bins: 1\n",
        "Histogram\n",
        "X axis: d-Spacing / Angstrom\n",
        "Y axis: Counts\n",
        "Distribution: False\n",
        "Instrument: CNCS (1900-Jan-31 to 2011-Aug-17)\n",
        "Instrument from: C:\\MantidInstall\\instrument\\CNCS_Definition_1-35154.xml\n",
        "Parameters from: C:\\MantidInstall\\instrument\\CNCS_Parameters_1-35154.xml\n",
        "Run start: 2010-Mar-25 16:08:37\n",
        "Run end:  2010-Mar-25 16:11:05\n",
        "\n",
        "Events: 112266"
       ]
      }
     ],
     "prompt_number": 4
    },
    {
     "cell_type": "markdown",
     "metadata": {},
     "source": [
      "**Try to use keywords!!!**\n",
      "It's OK to use one simple argument, if the argument is either `InputWorkspace` or `Filename` forload algorithms."
     ]
    },
    {
     "cell_type": "heading",
     "level": 2,
     "metadata": {},
     "source": [
      "Return values"
     ]
    },
    {
     "cell_type": "code",
     "collapsed": false,
     "input": [
      "GetEi(\"CNCS_7860\")"
     ],
     "language": "python",
     "metadata": {},
     "outputs": [
      {
       "metadata": {},
       "output_type": "pyout",
       "prompt_number": 5,
       "text": [
        "(3.0, 0.0, 0, 61.77080180287334)"
       ]
      }
     ],
     "prompt_number": 5
    },
    {
     "cell_type": "code",
     "collapsed": false,
     "input": [
      "GetEi?"
     ],
     "language": "python",
     "metadata": {},
     "outputs": [],
     "prompt_number": 6
    },
    {
     "cell_type": "code",
     "collapsed": false,
     "input": [
      "a=GetEi(\"CNCS_7860\")\n",
      "type(a) #more than one return value will be returned as a tuple"
     ],
     "language": "python",
     "metadata": {},
     "outputs": [
      {
       "metadata": {},
       "output_type": "pyout",
       "prompt_number": 7,
       "text": [
        "tuple"
       ]
      }
     ],
     "prompt_number": 7
    },
    {
     "cell_type": "code",
     "collapsed": false,
     "input": [
      "x=Load(Filename=\"CNCS_7860\",OutputWorkspace=\"CNCS_7860\")\n",
      "print type(x)\n",
      "print x.getName()"
     ],
     "language": "python",
     "metadata": {},
     "outputs": [
      {
       "output_type": "stream",
       "stream": "stdout",
       "text": [
        "<class 'mantid.dataobjects._dataobjects.EventWorkspace'>\n",
        "CNCS_7860\n"
       ]
      }
     ],
     "prompt_number": 8
    },
    {
     "cell_type": "markdown",
     "metadata": {},
     "source": [
      "**For algorithms that have an `OutputWorkspace` field, we can just assign the output to a variable, and skip the `OutputWorkspace` keyword. The name of the output workspace is going to be the name of the variable.**"
     ]
    },
    {
     "cell_type": "code",
     "collapsed": false,
     "input": [
      "x1=Load(Filename=\"CNCS_7860\")\n",
      "print type(x1)\n",
      "print x1.getName()"
     ],
     "language": "python",
     "metadata": {},
     "outputs": [
      {
       "output_type": "stream",
       "stream": "stdout",
       "text": [
        "<class 'mantid.dataobjects._dataobjects.EventWorkspace'>\n",
        "x1\n"
       ]
      }
     ],
     "prompt_number": 9
    },
    {
     "cell_type": "markdown",
     "metadata": {},
     "source": []
    }
   ],
   "metadata": {}
  }
 ]
}