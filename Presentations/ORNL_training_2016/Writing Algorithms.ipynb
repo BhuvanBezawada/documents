{
 "metadata": {
  "name": "",
  "signature": "sha256:10edd417fb7c9a3c06aa23c84722e88081e6759a155dcee5c00850b7d010f413"
 },
 "nbformat": 3,
 "nbformat_minor": 0,
 "worksheets": [
  {
   "cells": [
    {
     "cell_type": "heading",
     "level": 1,
     "metadata": {},
     "source": [
      "Writing Algorithms"
     ]
    },
    {
     "cell_type": "markdown",
     "metadata": {},
     "source": [
      "Mantid ships with many predefined Algorithms.\n",
      "\n",
      "Python algorithms provide a mechanism to define extra algorithms at run time that Mantid treats exactly the same as if they were shipped with the package.\n",
      "\n",
      "Benefits of an algorithm over just writing in a script:\n",
      "* Create workspaces that are seen by Mantid - Improved performance for your specific task;\n",
      "* History tracking - Python processing in a standard script isn't tracked in the workspace history but a it is through a Python algorithm;\n",
      "* Free GUI - All algorithms have a default auto-generated input GUI;"
     ]
    },
    {
     "cell_type": "heading",
     "level": 2,
     "metadata": {},
     "source": [
      "Basic algorithm structure"
     ]
    },
    {
     "cell_type": "markdown",
     "metadata": {},
     "source": [
      "    from mantid.kernel import *\n",
      "    from mantid.api import *\n",
      " \n",
      "    class HelloWorld(PythonAlgorithm):\n",
      " \n",
      "        def PyInit(self):\n",
      "            # Declare properties\n",
      "            pass\n",
      " \n",
      " \n",
      "        def PyExec(self):\n",
      "            # Run the algorithm\n",
      "            pass\n",
      " \n",
      "    # Register algorithm with Mantid\n",
      "    AlgorithmFactory.subscribe(HelloWorld)"
     ]
    },
    {
     "cell_type": "markdown",
     "metadata": {},
     "source": [
      "* The super class is PythonAlgorithm, which provides a hook to allow Mantid to interact with it without knowing about it beforehand.\n",
      "\n",
      "* The functions PyInit and PyExec are called by the framework to setup properties and run the algorithm respectively and must be included.\n",
      "\n",
      "* The final line, which should be outside the class definition, registers the new algorithm class with Mantid.\n",
      "\n",
      "* Each algorithm needs to belong to a category, by default a Python algorithm belongs to the \"PythonAlgorithms\", but Mantid will emit a warning on registration if you leave it using the default value. To change this include the category() function in the definition, i.e.\n",
      "\n",
      "        def category(self):\n",
      "            return 'Useful\\\\Tools;MyTools'\n"
     ]
    },
    {
     "cell_type": "heading",
     "level": 2,
     "metadata": {},
     "source": [
      "Properties and validators"
     ]
    },
    {
     "cell_type": "markdown",
     "metadata": {},
     "source": [
      "Input properties can be \n",
      "* numbers (integers or floating point)\n",
      "* strings\n",
      "* lists\n",
      "* files\n",
      "* workspaces\n",
      "\n",
      "We can attach validators to these properties\n",
      "* bounded validator for numbers (for example minimum value of 0 for incident neutron energy, maximum angle of 180 for the angles ina unit cell)\n",
      "* array lenghts validators (we need exactly three numbers as lattice lengths)\n",
      "* workspace unit validators\n",
      "* we can require that a workspace has an instrument"
     ]
    },
    {
     "cell_type": "markdown",
     "metadata": {},
     "source": [
      "For more detailed information see http://www.mantidproject.org/Extending_Mantid_With_Python"
     ]
    },
    {
     "cell_type": "code",
     "collapsed": false,
     "input": [],
     "language": "python",
     "metadata": {},
     "outputs": []
    }
   ],
   "metadata": {}
  }
 ]
}