{
 "metadata": {
  "name": "",
  "signature": "sha256:5d2b5fe82357ea79441f42772d40cb29374998b3910d261f75d6cf1c69178b65"
 },
 "nbformat": 3,
 "nbformat_minor": 0,
 "worksheets": [
  {
   "cells": [
    {
     "cell_type": "heading",
     "level": 1,
     "metadata": {},
     "source": [
      "Mantid with python"
     ]
    },
    {
     "cell_type": "markdown",
     "metadata": {},
     "source": [
      "* **When:** May 16th and 17th, from 9.30 to 16.30 <br>\n",
      "* **Where:** CNMS building, room L183 <br>\n",
      "* **What:** This will be an introductory course to MantidPlot, and using Mantid with python<br>\n",
      "* **Prerequisites:** either install MantidPlot on your computer (http://download.mantidproject.org/) or connect to http://analysis.sns.gov"
     ]
    },
    {
     "cell_type": "heading",
     "level": 2,
     "metadata": {},
     "source": [
      "1. [Introduction to MantidPlot]( Introduction to MantidPlot.ipynb)"
     ]
    },
    {
     "cell_type": "markdown",
     "metadata": {},
     "source": [
      "* what is mantidplot?\n",
      "* versions of mantid on analysis.sns.gov\n",
      "* mantidplot vs. mantidpython"
     ]
    },
    {
     "cell_type": "heading",
     "level": 2,
     "metadata": {},
     "source": [
      "2. [MantidPlot environment](MantidPlot environment.ipynb)"
     ]
    },
    {
     "cell_type": "markdown",
     "metadata": {},
     "source": [
      "* workspace toolbox\n",
      "* algorithm toolbox\n",
      "* results log panel\n",
      "* ipython interpreter\n",
      "* script window\n",
      "* preferences dialog box"
     ]
    },
    {
     "cell_type": "heading",
     "level": 2,
     "metadata": {},
     "source": [
      "3. [Loading files](Loading files.ipynb)"
     ]
    },
    {
     "cell_type": "markdown",
     "metadata": {},
     "source": [
      "* file types\n",
      "* filename hints\n",
      "* archive search\n",
      "* multiple file loading"
     ]
    },
    {
     "cell_type": "heading",
     "level": 2,
     "metadata": {},
     "source": [
      "4. [Workspace matrix representation](Workspace matrix representation.ipynb)"
     ]
    },
    {
     "cell_type": "markdown",
     "metadata": {},
     "source": [
      "* matrix view\n",
      "* histogram vs point data\n",
      "* detector table"
     ]
    },
    {
     "cell_type": "heading",
     "level": 2,
     "metadata": {},
     "source": [
      "5. [Simple plotting](Simple plotting.ipynb)"
     ]
    },
    {
     "cell_type": "markdown",
     "metadata": {},
     "source": [
      "* plot spectrum fom the workspace list\n",
      "* plot spectrum from data\n",
      "* add plots to current figure\n",
      "* 2D plots (colorfillplot, spectrum viewer, sliceviewer)"
     ]
    },
    {
     "cell_type": "heading",
     "level": 2,
     "metadata": {},
     "source": [
      "6. [Algorithms](Algorithms.ipynb)"
     ]
    },
    {
     "cell_type": "markdown",
     "metadata": {},
     "source": [
      "* running an algorithm\n",
      "* help\n",
      "* inputs and input validation\n",
      "* output"
     ]
    },
    {
     "cell_type": "heading",
     "level": 2,
     "metadata": {},
     "source": [
      "7. [Matrix workspaces](Matrix workspaces.ipynb)"
     ]
    },
    {
     "cell_type": "markdown",
     "metadata": {},
     "source": [
      "* Workspace2D\n",
      "* EventWorkspace"
     ]
    },
    {
     "cell_type": "heading",
     "level": 2,
     "metadata": {},
     "source": [
      "8. [Workspace content](Workspace content.ipynb)"
     ]
    },
    {
     "cell_type": "markdown",
     "metadata": {},
     "source": [
      "* data\n",
      "* logs\n",
      "* history\n",
      "* instrument"
     ]
    },
    {
     "cell_type": "heading",
     "level": 2,
     "metadata": {},
     "source": [
      "9. [Instrument view](http://www.mantidproject.org/MBC_Connecting_Data_To_Instrument)"
     ]
    },
    {
     "cell_type": "heading",
     "level": 2,
     "metadata": {},
     "source": [
      "10. [Fitting](http://www.mantidproject.org/MBC_Setup_And_Execute_First_Fit)"
     ]
    },
    {
     "cell_type": "heading",
     "level": 2,
     "metadata": {},
     "source": [
      "11. [Custom interface examples](Custom Interfaces.ipynb)"
     ]
    },
    {
     "cell_type": "heading",
     "level": 2,
     "metadata": {},
     "source": [
      "12. [Live Data](Live Data.ipynb)"
     ]
    },
    {
     "cell_type": "heading",
     "level": 2,
     "metadata": {},
     "source": [
      "13. [Multi dimensional (MD) Workspaces](MDWorkspaces.ipynb)"
     ]
    },
    {
     "cell_type": "markdown",
     "metadata": {},
     "source": [
      "* MDEvents and the box structure\n",
      "* MDHistoWorkspaces\n",
      "* Create MD workspaces\n",
      "* Visualization (slice viewer, VSI, paraview)\n",
      "* Rebinning\n",
      "* Normalization"
     ]
    },
    {
     "cell_type": "heading",
     "level": 2,
     "metadata": {},
     "source": [
      "14. Introduction to python in mantid"
     ]
    },
    {
     "cell_type": "markdown",
     "metadata": {},
     "source": [
      "* how to run mantid algorithms in python\n",
      "* arguments and keywords\n",
      "* return types"
     ]
    },
    {
     "cell_type": "heading",
     "level": 2,
     "metadata": {},
     "source": [
      "15. Manipulating workspaces in python"
     ]
    },
    {
     "cell_type": "markdown",
     "metadata": {},
     "source": [
      "* workspace name vs handle\n",
      "* functions on workspace objects\n",
      "* axes, units\n",
      "* event lists\n",
      "* workspace groups\n"
     ]
    },
    {
     "cell_type": "heading",
     "level": 2,
     "metadata": {},
     "source": [
      "16. Workspace data"
     ]
    },
    {
     "cell_type": "markdown",
     "metadata": {},
     "source": [
      "* reading and writing data in Workspace2Ds\n",
      "* reading and writing data in MDHistoWorkspaces"
     ]
    },
    {
     "cell_type": "heading",
     "level": 2,
     "metadata": {},
     "source": [
      "17. Logs and instruments in python"
     ]
    },
    {
     "cell_type": "markdown",
     "metadata": {},
     "source": [
      "* run object\n",
      "* instrument object"
     ]
    },
    {
     "cell_type": "heading",
     "level": 2,
     "metadata": {},
     "source": [
      "18. Algorithms"
     ]
    },
    {
     "cell_type": "markdown",
     "metadata": {},
     "source": [
      "* benefits\n",
      "* structure\n",
      "* properies and validators"
     ]
    },
    {
     "cell_type": "heading",
     "level": 2,
     "metadata": {},
     "source": [
      "19. Examples and discussions"
     ]
    }
   ],
   "metadata": {}
  }
 ]
}