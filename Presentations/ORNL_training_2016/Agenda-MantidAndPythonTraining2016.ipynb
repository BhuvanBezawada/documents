{
 "metadata": {
  "name": "",
  "signature": "sha256:173ba222d46e34824115b019c3a4351dc5fed23868572b8ab3b37fdaea9632a0"
 },
 "nbformat": 3,
 "nbformat_minor": 0,
 "worksheets": [
  {
   "cells": [
    {
     "cell_type": "heading",
     "level": 1,
     "metadata": {},
     "source": [
      "Mantid and python"
     ]
    },
    {
     "cell_type": "heading",
     "level": 2,
     "metadata": {},
     "source": [
      "1. MantidPlot introduction"
     ]
    },
    {
     "cell_type": "markdown",
     "metadata": {},
     "source": [
      "* what is mantidplot?\n",
      "* install\n",
      "* versions of mantid on analysis.sns.gov\n",
      "* mantidplot vs. mantidpython\n",
      "* data for the course"
     ]
    },
    {
     "cell_type": "heading",
     "level": 2,
     "metadata": {},
     "source": [
      "2. Mantidplot environment"
     ]
    },
    {
     "cell_type": "markdown",
     "metadata": {},
     "source": [
      "* workspace tab\n",
      "* algorithm tab\n",
      "* results log\n",
      "* ipython interpreter\n",
      "* script window\n",
      "* preferences"
     ]
    },
    {
     "cell_type": "heading",
     "level": 2,
     "metadata": {},
     "source": [
      "3. Loading file"
     ]
    },
    {
     "cell_type": "markdown",
     "metadata": {},
     "source": [
      "* file types\n",
      "* filename hints\n",
      "* archive search\n",
      "* multiple file loading"
     ]
    },
    {
     "cell_type": "heading",
     "level": 2,
     "metadata": {},
     "source": [
      "4. Workspace matrix representation"
     ]
    },
    {
     "cell_type": "markdown",
     "metadata": {},
     "source": [
      "* matrix view\n",
      "* histogram vs point data\n",
      "* detector table"
     ]
    },
    {
     "cell_type": "heading",
     "level": 2,
     "metadata": {},
     "source": [
      "5. Simple plotting"
     ]
    },
    {
     "cell_type": "markdown",
     "metadata": {},
     "source": [
      "* plot spectrum fom the workspace list\n",
      "* plot spectrum from data\n",
      "* add plots to current figure\n",
      "* 2D plots (colorfillplot, spectrum viewer, sliceviewer)"
     ]
    },
    {
     "cell_type": "heading",
     "level": 2,
     "metadata": {},
     "source": [
      "6. Algorithms"
     ]
    },
    {
     "cell_type": "markdown",
     "metadata": {},
     "source": [
      "* running an algorithm\n",
      "* help\n",
      "* inputs and input validation\n",
      "* output"
     ]
    },
    {
     "cell_type": "heading",
     "level": 2,
     "metadata": {},
     "source": [
      "7. Workspace content"
     ]
    },
    {
     "cell_type": "markdown",
     "metadata": {},
     "source": [
      "* data\n",
      "* logs\n",
      "* history\n",
      "* instrument"
     ]
    },
    {
     "cell_type": "heading",
     "level": 2,
     "metadata": {},
     "source": [
      "8. Instrument view"
     ]
    },
    {
     "cell_type": "heading",
     "level": 2,
     "metadata": {},
     "source": [
      "9. Matrix workspaces"
     ]
    },
    {
     "cell_type": "markdown",
     "metadata": {},
     "source": [
      "* Workspace2D\n",
      "* EventWorkspace"
     ]
    },
    {
     "cell_type": "heading",
     "level": 2,
     "metadata": {},
     "source": [
      "10. Fitting"
     ]
    },
    {
     "cell_type": "heading",
     "level": 2,
     "metadata": {},
     "source": [
      "11. Custom interface examples"
     ]
    },
    {
     "cell_type": "heading",
     "level": 2,
     "metadata": {},
     "source": [
      "12. Live Data"
     ]
    },
    {
     "cell_type": "heading",
     "level": 2,
     "metadata": {},
     "source": [
      "13. Multi dimensional (MD) Workspaces"
     ]
    },
    {
     "cell_type": "markdown",
     "metadata": {},
     "source": [
      "* MDEvents and the box structure\n",
      "* MDHistoWorkspaces\n",
      "* Create MD workspaces\n",
      "* Visualization (slice viewer, VSI, paraview)\n",
      "* Rebinning\n",
      "* Normalization"
     ]
    },
    {
     "cell_type": "heading",
     "level": 2,
     "metadata": {},
     "source": [
      "14. Introduction to python in mantid"
     ]
    },
    {
     "cell_type": "markdown",
     "metadata": {},
     "source": [
      "* how to run mantid algorithms in python\n",
      "* arguments and keywords\n",
      "* return types"
     ]
    },
    {
     "cell_type": "heading",
     "level": 2,
     "metadata": {},
     "source": [
      "15. Manipulating workspaces in python"
     ]
    },
    {
     "cell_type": "markdown",
     "metadata": {},
     "source": [
      "* workspace name vs handle\n",
      "* functions on workspace objects\n",
      "* axes, units\n",
      "* event lists\n",
      "* workspace groups\n"
     ]
    },
    {
     "cell_type": "heading",
     "level": 2,
     "metadata": {},
     "source": [
      "16. Workspace data"
     ]
    },
    {
     "cell_type": "markdown",
     "metadata": {},
     "source": [
      "* reading and writing data in Workspace2Ds\n",
      "* reading and writing data in MDHistoWorkspaces"
     ]
    },
    {
     "cell_type": "heading",
     "level": 2,
     "metadata": {},
     "source": [
      "17. Logs and instruments in python"
     ]
    },
    {
     "cell_type": "markdown",
     "metadata": {},
     "source": [
      "* run object\n",
      "* instrument object"
     ]
    },
    {
     "cell_type": "heading",
     "level": 2,
     "metadata": {},
     "source": [
      "18. Algorithms"
     ]
    },
    {
     "cell_type": "markdown",
     "metadata": {},
     "source": [
      "* benefits\n",
      "* structure\n",
      "* properies and validators"
     ]
    },
    {
     "cell_type": "heading",
     "level": 2,
     "metadata": {},
     "source": [
      "19. Examples and discussions"
     ]
    }
   ],
   "metadata": {}
  }
 ]
}